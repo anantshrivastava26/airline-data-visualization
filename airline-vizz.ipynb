{
 "cells": [
  {
   "cell_type": "code",
   "execution_count": 0,
   "metadata": {
    "application/vnd.databricks.v1+cell": {
     "cellMetadata": {
      "byteLimit": 2048000,
      "implicitDf": true,
      "rowLimit": 10000
     },
     "inputWidgets": {},
     "nuid": "fe50baa5-a0a3-4d60-841f-7a7ace487661",
     "showTitle": false,
     "tableResultSettingsMap": {},
     "title": ""
    }
   },
   "outputs": [
    {
     "output_type": "display_data",
     "data": {
      "text/html": [
       "<style scoped>\n",
       "  .table-result-container {\n",
       "    max-height: 300px;\n",
       "    overflow: auto;\n",
       "  }\n",
       "  table, th, td {\n",
       "    border: 1px solid black;\n",
       "    border-collapse: collapse;\n",
       "  }\n",
       "  th, td {\n",
       "    padding: 5px;\n",
       "  }\n",
       "  th {\n",
       "    text-align: left;\n",
       "  }\n",
       "</style><div class='table-result-container'><table class='table-result'><thead style='background-color: white'><tr><th>col_name</th><th>data_type</th><th>comment</th></tr></thead><tbody><tr><td>index</td><td>bigint</td><td>null</td></tr><tr><td>airline</td><td>string</td><td>null</td></tr><tr><td>flight</td><td>string</td><td>null</td></tr><tr><td>source_city</td><td>string</td><td>null</td></tr><tr><td>departure_time</td><td>string</td><td>null</td></tr><tr><td>stops</td><td>string</td><td>null</td></tr><tr><td>arrival_time</td><td>string</td><td>null</td></tr><tr><td>destination_city</td><td>string</td><td>null</td></tr><tr><td>class</td><td>string</td><td>null</td></tr><tr><td>duration</td><td>double</td><td>null</td></tr><tr><td>days_left</td><td>bigint</td><td>null</td></tr><tr><td>price</td><td>bigint</td><td>null</td></tr><tr><td></td><td></td><td></td></tr><tr><td># Delta Statistics Columns</td><td></td><td></td></tr><tr><td>Column Names</td><td>duration, flight, price, days_left, class, airline, destination_city, index, departure_time, arrival_time, stops, source_city</td><td></td></tr><tr><td>Column Selection Method</td><td>first-32</td><td></td></tr><tr><td></td><td></td><td></td></tr><tr><td># Detailed Table Information</td><td></td><td></td></tr><tr><td>Catalog</td><td>workspace</td><td></td></tr><tr><td>Database</td><td>default</td><td></td></tr><tr><td>Table</td><td>airlines_flights_data</td><td></td></tr><tr><td>Created Time</td><td>Tue Aug 12 15:32:15 UTC 2025</td><td></td></tr><tr><td>Last Access</td><td>UNKNOWN</td><td></td></tr><tr><td>Created By</td><td>Spark </td><td></td></tr><tr><td>Statistics</td><td>2528826 bytes, 300153 rows</td><td></td></tr><tr><td>Type</td><td>MANAGED</td><td></td></tr><tr><td>Comment</td><td>The table contains data related to airline flights, including details such as the airline name, flight number, source and destination cities, departure and arrival times, number of stops, class of service, flight duration, days left until departure, and ticket price. This data can be used for analyzing flight options, pricing strategies, and travel trends.</td><td></td></tr><tr><td>Location</td><td></td><td></td></tr><tr><td>Provider</td><td>delta</td><td></td></tr><tr><td>Owner</td><td>as9987@srmist.edu.in</td><td></td></tr><tr><td>Is_managed_location</td><td>true</td><td></td></tr><tr><td>Predictive Optimization</td><td>ENABLE (inherited from METASTORE metastore_aws_ap_southeast_2)</td><td></td></tr><tr><td>Table Properties</td><td>[delta.checkpoint.writeStatsAsJson=false,delta.checkpoint.writeStatsAsStruct=true,delta.enableDeletionVectors=true,delta.feature.appendOnly=supported,delta.feature.deletionVectors=supported,delta.feature.invariants=supported,delta.minReaderVersion=3,delta.minWriterVersion=7]</td><td></td></tr></tbody></table></div>"
      ]
     },
     "metadata": {
      "application/vnd.databricks.v1+output": {
       "addedWidgets": {},
       "aggData": [],
       "aggError": "",
       "aggOverflow": false,
       "aggSchema": [],
       "aggSeriesLimitReached": false,
       "aggType": "",
       "arguments": {},
       "columnCustomDisplayInfos": {},
       "data": [
        [
         "index",
         "bigint",
         null
        ],
        [
         "airline",
         "string",
         null
        ],
        [
         "flight",
         "string",
         null
        ],
        [
         "source_city",
         "string",
         null
        ],
        [
         "departure_time",
         "string",
         null
        ],
        [
         "stops",
         "string",
         null
        ],
        [
         "arrival_time",
         "string",
         null
        ],
        [
         "destination_city",
         "string",
         null
        ],
        [
         "class",
         "string",
         null
        ],
        [
         "duration",
         "double",
         null
        ],
        [
         "days_left",
         "bigint",
         null
        ],
        [
         "price",
         "bigint",
         null
        ],
        [
         "",
         "",
         ""
        ],
        [
         "# Delta Statistics Columns",
         "",
         ""
        ],
        [
         "Column Names",
         "duration, flight, price, days_left, class, airline, destination_city, index, departure_time, arrival_time, stops, source_city",
         ""
        ],
        [
         "Column Selection Method",
         "first-32",
         ""
        ],
        [
         "",
         "",
         ""
        ],
        [
         "# Detailed Table Information",
         "",
         ""
        ],
        [
         "Catalog",
         "workspace",
         ""
        ],
        [
         "Database",
         "default",
         ""
        ],
        [
         "Table",
         "airlines_flights_data",
         ""
        ],
        [
         "Created Time",
         "Tue Aug 12 15:32:15 UTC 2025",
         ""
        ],
        [
         "Last Access",
         "UNKNOWN",
         ""
        ],
        [
         "Created By",
         "Spark ",
         ""
        ],
        [
         "Statistics",
         "2528826 bytes, 300153 rows",
         ""
        ],
        [
         "Type",
         "MANAGED",
         ""
        ],
        [
         "Comment",
         "The table contains data related to airline flights, including details such as the airline name, flight number, source and destination cities, departure and arrival times, number of stops, class of service, flight duration, days left until departure, and ticket price. This data can be used for analyzing flight options, pricing strategies, and travel trends.",
         ""
        ],
        [
         "Location",
         "",
         ""
        ],
        [
         "Provider",
         "delta",
         ""
        ],
        [
         "Owner",
         "as9987@srmist.edu.in",
         ""
        ],
        [
         "Is_managed_location",
         "true",
         ""
        ],
        [
         "Predictive Optimization",
         "ENABLE (inherited from METASTORE metastore_aws_ap_southeast_2)",
         ""
        ],
        [
         "Table Properties",
         "[delta.checkpoint.writeStatsAsJson=false,delta.checkpoint.writeStatsAsStruct=true,delta.enableDeletionVectors=true,delta.feature.appendOnly=supported,delta.feature.deletionVectors=supported,delta.feature.invariants=supported,delta.minReaderVersion=3,delta.minWriterVersion=7]",
         ""
        ]
       ],
       "datasetInfos": [
        {
         "name": "_sqldf",
         "schema": {
          "fields": [
           {
            "metadata": {},
            "name": "col_name",
            "nullable": false,
            "type": "string"
           },
           {
            "metadata": {},
            "name": "data_type",
            "nullable": false,
            "type": "string"
           },
           {
            "metadata": {},
            "name": "comment",
            "nullable": true,
            "type": "string"
           }
          ],
          "type": "struct"
         },
         "tableIdentifier": null,
         "typeStr": "pyspark.sql.connect.dataframe.DataFrame"
        }
       ],
       "dbfsResultPath": null,
       "isJsonSchema": true,
       "metadata": {
        "createTempViewForImplicitDf": true,
        "dataframeName": "_sqldf",
        "executionCount": 4
       },
       "overflow": false,
       "plotOptions": {
        "customPlotOptions": {},
        "displayType": "table",
        "pivotAggregation": null,
        "pivotColumns": null,
        "xColumns": null,
        "yColumns": null
       },
       "removedWidgets": [],
       "schema": [
        {
         "metadata": "{}",
         "name": "col_name",
         "type": "\"string\""
        },
        {
         "metadata": "{}",
         "name": "data_type",
         "type": "\"string\""
        },
        {
         "metadata": "{}",
         "name": "comment",
         "type": "\"string\""
        }
       ],
       "type": "table"
      }
     },
     "output_type": "display_data"
    }
   ],
   "source": [
    "%sql DESCRIBE EXTENDED workspace.default.airlines_flights_data"
   ]
  },
  {
   "cell_type": "code",
   "execution_count": 0,
   "metadata": {
    "application/vnd.databricks.v1+cell": {
     "cellMetadata": {
      "byteLimit": 2048000,
      "rowLimit": 10000
     },
     "inputWidgets": {},
     "nuid": "01751c1d-96a2-4323-9430-7e143ceaa15f",
     "showTitle": false,
     "tableResultSettingsMap": {},
     "title": ""
    }
   },
   "outputs": [
    {
     "output_type": "display_data",
     "data": {
      "text/html": [
       "<style scoped>\n",
       "  .table-result-container {\n",
       "    max-height: 300px;\n",
       "    overflow: auto;\n",
       "  }\n",
       "  table, th, td {\n",
       "    border: 1px solid black;\n",
       "    border-collapse: collapse;\n",
       "  }\n",
       "  th, td {\n",
       "    padding: 5px;\n",
       "  }\n",
       "  th {\n",
       "    text-align: left;\n",
       "  }\n",
       "</style><div class='table-result-container'><table class='table-result'><thead style='background-color: white'><tr><th>path</th><th>name</th><th>size</th><th>modificationTime</th></tr></thead><tbody><tr><td>dbfs:/Volumes/workspace/default/test1/airlines_flights_data.csv</td><td>airlines_flights_data.csv</td><td>24946485</td><td>1755015725000</td></tr></tbody></table></div>"
      ]
     },
     "metadata": {
      "application/vnd.databricks.v1+output": {
       "addedWidgets": {},
       "aggData": [],
       "aggError": "",
       "aggOverflow": false,
       "aggSchema": [],
       "aggSeriesLimitReached": false,
       "aggType": "",
       "arguments": {},
       "columnCustomDisplayInfos": {},
       "data": [
        [
         "dbfs:/Volumes/workspace/default/test1/airlines_flights_data.csv",
         "airlines_flights_data.csv",
         24946485,
         1755015725000
        ]
       ],
       "datasetInfos": [],
       "dbfsResultPath": null,
       "isJsonSchema": true,
       "metadata": {},
       "overflow": false,
       "plotOptions": {
        "customPlotOptions": {},
        "displayType": "table",
        "pivotAggregation": null,
        "pivotColumns": null,
        "xColumns": null,
        "yColumns": null
       },
       "removedWidgets": [],
       "schema": [
        {
         "metadata": "{}",
         "name": "path",
         "type": "\"string\""
        },
        {
         "metadata": "{}",
         "name": "name",
         "type": "\"string\""
        },
        {
         "metadata": "{}",
         "name": "size",
         "type": "\"long\""
        },
        {
         "metadata": "{}",
         "name": "modificationTime",
         "type": "\"long\""
        }
       ],
       "type": "table"
      }
     },
     "output_type": "display_data"
    }
   ],
   "source": [
    "%fs ls /Volumes/workspace/default/test1"
   ]
  },
  {
   "cell_type": "code",
   "execution_count": 0,
   "metadata": {
    "application/vnd.databricks.v1+cell": {
     "cellMetadata": {
      "byteLimit": 2048000,
      "rowLimit": 10000
     },
     "inputWidgets": {},
     "nuid": "6d90bf64-41e1-4f3c-99c1-bca92d49824d",
     "showTitle": false,
     "tableResultSettingsMap": {},
     "title": ""
    }
   },
   "outputs": [],
   "source": [
    "airlinedf=spark.read.format(\"csv\").option(\"header\",\"true\").option(\"inferSchema\",\"true\").load(\"/Volumes/workspace/default/test1\")"
   ]
  },
  {
   "cell_type": "code",
   "execution_count": 0,
   "metadata": {
    "application/vnd.databricks.v1+cell": {
     "cellMetadata": {
      "byteLimit": 2048000,
      "rowLimit": 10000
     },
     "inputWidgets": {},
     "nuid": "9b6c4cf4-66c1-4322-8b14-9972a21c58d7",
     "showTitle": false,
     "tableResultSettingsMap": {},
     "title": ""
    }
   },
   "outputs": [
    {
     "output_type": "stream",
     "name": "stdout",
     "output_type": "stream",
     "text": [
      "+-----+---------+-------+-----------+--------------+-----+-------------+----------------+-------+--------+---------+-----+\n|index|  airline| flight|source_city|departure_time|stops| arrival_time|destination_city|  class|duration|days_left|price|\n+-----+---------+-------+-----------+--------------+-----+-------------+----------------+-------+--------+---------+-----+\n|    0| SpiceJet|SG-8709|      Delhi|       Evening| zero|        Night|          Mumbai|Economy|    2.17|        1| 5953|\n|    1| SpiceJet|SG-8157|      Delhi| Early_Morning| zero|      Morning|          Mumbai|Economy|    2.33|        1| 5953|\n|    2|  AirAsia| I5-764|      Delhi| Early_Morning| zero|Early_Morning|          Mumbai|Economy|    2.17|        1| 5956|\n|    3|  Vistara| UK-995|      Delhi|       Morning| zero|    Afternoon|          Mumbai|Economy|    2.25|        1| 5955|\n|    4|  Vistara| UK-963|      Delhi|       Morning| zero|      Morning|          Mumbai|Economy|    2.33|        1| 5955|\n|    5|  Vistara| UK-945|      Delhi|       Morning| zero|    Afternoon|          Mumbai|Economy|    2.33|        1| 5955|\n|    6|  Vistara| UK-927|      Delhi|       Morning| zero|      Morning|          Mumbai|Economy|    2.08|        1| 6060|\n|    7|  Vistara| UK-951|      Delhi|     Afternoon| zero|      Evening|          Mumbai|Economy|    2.17|        1| 6060|\n|    8| GO_FIRST| G8-334|      Delhi| Early_Morning| zero|      Morning|          Mumbai|Economy|    2.17|        1| 5954|\n|    9| GO_FIRST| G8-336|      Delhi|     Afternoon| zero|      Evening|          Mumbai|Economy|    2.25|        1| 5954|\n|   10| GO_FIRST| G8-392|      Delhi|     Afternoon| zero|      Evening|          Mumbai|Economy|    2.25|        1| 5954|\n|   11| GO_FIRST| G8-338|      Delhi|       Morning| zero|    Afternoon|          Mumbai|Economy|    2.33|        1| 5954|\n|   12|   Indigo|6E-5001|      Delhi| Early_Morning| zero|      Morning|          Mumbai|Economy|    2.17|        1| 5955|\n|   13|   Indigo|6E-6202|      Delhi|       Morning| zero|    Afternoon|          Mumbai|Economy|    2.17|        1| 5955|\n|   14|   Indigo| 6E-549|      Delhi|     Afternoon| zero|      Evening|          Mumbai|Economy|    2.25|        1| 5955|\n|   15|   Indigo|6E-6278|      Delhi|       Morning| zero|      Morning|          Mumbai|Economy|    2.33|        1| 5955|\n|   16|Air_India| AI-887|      Delhi| Early_Morning| zero|      Morning|          Mumbai|Economy|    2.08|        1| 5955|\n|   17|Air_India| AI-665|      Delhi| Early_Morning| zero|      Morning|          Mumbai|Economy|    2.17|        1| 5955|\n|   18|  AirAsia| I5-747|      Delhi|       Evening|  one|Early_Morning|          Mumbai|Economy|   12.25|        1| 5949|\n|   19|  AirAsia| I5-747|      Delhi|       Evening|  one|      Morning|          Mumbai|Economy|   16.33|        1| 5949|\n+-----+---------+-------+-----------+--------------+-----+-------------+----------------+-------+--------+---------+-----+\nonly showing top 20 rows\n"
     ]
    }
   ],
   "source": [
    "airlinedf.show();"
   ]
  },
  {
   "cell_type": "code",
   "execution_count": 0,
   "metadata": {
    "application/vnd.databricks.v1+cell": {
     "cellMetadata": {
      "byteLimit": 2048000,
      "rowLimit": 10000
     },
     "inputWidgets": {},
     "nuid": "6dcaeabc-cfaa-419f-9fa8-e4a4fcab80c4",
     "showTitle": false,
     "tableResultSettingsMap": {},
     "title": ""
    }
   },
   "outputs": [
    {
     "output_type": "stream",
     "name": "stdout",
     "output_type": "stream",
     "text": [
      "root\n |-- index: integer (nullable = true)\n |-- airline: string (nullable = true)\n |-- flight: string (nullable = true)\n |-- source_city: string (nullable = true)\n |-- departure_time: string (nullable = true)\n |-- stops: string (nullable = true)\n |-- arrival_time: string (nullable = true)\n |-- destination_city: string (nullable = true)\n |-- class: string (nullable = true)\n |-- duration: double (nullable = true)\n |-- days_left: integer (nullable = true)\n |-- price: integer (nullable = true)\n\n"
     ]
    }
   ],
   "source": [
    "airlinedf.printSchema();"
   ]
  },
  {
   "cell_type": "code",
   "execution_count": 0,
   "metadata": {
    "application/vnd.databricks.v1+cell": {
     "cellMetadata": {
      "byteLimit": 2048000,
      "rowLimit": 10000
     },
     "inputWidgets": {},
     "nuid": "e0790c8d-d13c-4b4c-8898-f3162c163f1a",
     "showTitle": false,
     "tableResultSettingsMap": {},
     "title": ""
    }
   },
   "outputs": [
    {
     "output_type": "stream",
     "name": "stdout",
     "output_type": "stream",
     "text": [
      "+-------+-----------------+-------+--------------------+-----------+--------------+------+------------+----------------+--------+------------------+------------------+------------------+\n|summary|            index|airline|              flight|source_city|departure_time| stops|arrival_time|destination_city|   class|          duration|         days_left|             price|\n+-------+-----------------+-------+--------------------+-----------+--------------+------+------------+----------------+--------+------------------+------------------+------------------+\n|  count|           300153| 300153|              300153|     300153|        300153|300153|      300153|          300153|  300153|            300153|            300153|            300153|\n|   mean|         150076.0|   NULL|5.427411873908629...|       NULL|          NULL|  NULL|        NULL|            NULL|    NULL|12.221020812718873|26.004750910369044|20889.660523133203|\n| stddev|86646.85201148395|   NULL|1.803651814074506...|       NULL|          NULL|  NULL|        NULL|            NULL|    NULL| 7.191997238119022|13.561003687093569|22697.767366074517|\n|    min|                0|AirAsia|            0.00E+00|  Bangalore|     Afternoon|   one|   Afternoon|       Bangalore|Business|              0.83|                 1|              1105|\n|    max|           300152|Vistara|              UK-996|     Mumbai|         Night|  zero|       Night|          Mumbai| Economy|             49.83|                49|            123071|\n+-------+-----------------+-------+--------------------+-----------+--------------+------+------------+----------------+--------+------------------+------------------+------------------+\n\n"
     ]
    }
   ],
   "source": [
    "airlinedf.count();\n",
    "airlinedf.columns;\n",
    "airlinedf.describe().show()"
   ]
  },
  {
   "cell_type": "code",
   "execution_count": 0,
   "metadata": {
    "application/vnd.databricks.v1+cell": {
     "cellMetadata": {
      "byteLimit": 2048000,
      "rowLimit": 10000
     },
     "inputWidgets": {},
     "nuid": "212956d0-30a3-44c9-ae0d-861bc6066f44",
     "showTitle": false,
     "tableResultSettingsMap": {},
     "title": ""
    }
   },
   "outputs": [
    {
     "output_type": "stream",
     "name": "stdout",
     "output_type": "stream",
     "text": [
      "root\n |-- index: string (nullable = true)\n |-- airline: string (nullable = true)\n |-- flight: string (nullable = true)\n |-- source_city: string (nullable = true)\n |-- departure_time: string (nullable = true)\n |-- stops: string (nullable = true)\n |-- arrival_time: string (nullable = true)\n |-- destination_city: string (nullable = true)\n |-- class: string (nullable = true)\n |-- duration: string (nullable = true)\n |-- days_left: string (nullable = true)\n |-- price: string (nullable = true)\n\n+-----+--------+-------+-----------+--------------+-----+-------------+----------------+-------+--------+---------+-----+\n|index|airline |flight |source_city|departure_time|stops|arrival_time |destination_city|class  |duration|days_left|price|\n+-----+--------+-------+-----------+--------------+-----+-------------+----------------+-------+--------+---------+-----+\n|0    |SpiceJet|SG-8709|Delhi      |Evening       |zero |Night        |Mumbai          |Economy|2.17    |1        |5953 |\n|1    |SpiceJet|SG-8157|Delhi      |Early_Morning |zero |Morning      |Mumbai          |Economy|2.33    |1        |5953 |\n|2    |AirAsia |I5-764 |Delhi      |Early_Morning |zero |Early_Morning|Mumbai          |Economy|2.17    |1        |5956 |\n|3    |Vistara |UK-995 |Delhi      |Morning       |zero |Afternoon    |Mumbai          |Economy|2.25    |1        |5955 |\n|4    |Vistara |UK-963 |Delhi      |Morning       |zero |Morning      |Mumbai          |Economy|2.33    |1        |5955 |\n+-----+--------+-------+-----------+--------------+-----+-------------+----------------+-------+--------+---------+-----+\nonly showing top 5 rows\n"
     ]
    }
   ],
   "source": [
    "from pyspark.sql import SparkSession\n",
    "spark = SparkSession.builder.appName(\"AirlineData\").getOrCreate()\n",
    "\n",
    "df = spark.read.option(\"header\", True).csv(\"/Volumes/workspace/default/test1/\")\n",
    "df.printSchema()\n",
    "df.show(5, truncate=False)"
   ]
  },
  {
   "cell_type": "code",
   "execution_count": 0,
   "metadata": {
    "application/vnd.databricks.v1+cell": {
     "cellMetadata": {
      "byteLimit": 2048000,
      "rowLimit": 10000
     },
     "inputWidgets": {},
     "nuid": "793c21de-8d54-43dc-ab1f-c236a52d6a1e",
     "showTitle": false,
     "tableResultSettingsMap": {},
     "title": ""
    }
   },
   "outputs": [
    {
     "output_type": "stream",
     "name": "stdout",
     "output_type": "stream",
     "text": [
      "root\n |-- index: string (nullable = true)\n |-- airline: string (nullable = true)\n |-- flight: string (nullable = true)\n |-- source_city: string (nullable = true)\n |-- departure_time: string (nullable = true)\n |-- stops: string (nullable = true)\n |-- arrival_time: string (nullable = true)\n |-- destination_city: string (nullable = true)\n |-- class: string (nullable = true)\n |-- duration: string (nullable = true)\n |-- days_left: string (nullable = true)\n |-- price: string (nullable = true)\n\n"
     ]
    }
   ],
   "source": [
    "from pyspark.sql import SparkSession\n",
    "\n",
    "# Create Spark session\n",
    "spark = SparkSession.builder.appName(\"AirlineData\").getOrCreate()\n",
    "\n",
    "# Read the dataset\n",
    "df = spark.read.option(\"header\", True).csv(\"/Volumes/workspace/default/test1/\")\n",
    "\n",
    "# Show schema to identify column names\n",
    "df.printSchema()\n"
   ]
  },
  {
   "cell_type": "code",
   "execution_count": 0,
   "metadata": {
    "application/vnd.databricks.v1+cell": {
     "cellMetadata": {
      "byteLimit": 2048000,
      "rowLimit": 10000
     },
     "inputWidgets": {},
     "nuid": "58cfedf5-b3a1-4745-8238-74b4b9c754c2",
     "showTitle": false,
     "tableResultSettingsMap": {},
     "title": ""
    }
   },
   "outputs": [],
   "source": [
    "from pyspark.sql import SparkSession\n",
    "\n",
    "# Create Spark session\n",
    "spark = SparkSession.builder.appName(\"AirlineFlightsData\").getOrCreate()\n",
    "\n",
    "# Read dataset from given path (update to your actual uploaded CSV path in DBFS)\n",
    "df = spark.read.option(\"header\", True).csv(\"/Volumes/workspace/default/test1/\")\n",
    "\n",
    "# Rename columns to clean, consistent format\n",
    "df = df \\\n",
    "    .withColumnRenamed(\"index\", \"Index\") \\\n",
    "    .withColumnRenamed(\"airline\", \"Airline\") \\\n",
    "    .withColumnRenamed(\"flight\", \"Flight\") \\\n",
    "    .withColumnRenamed(\"source_city\", \"Source_City\") \\\n",
    "    .withColumnRenamed(\"departure_time\", \"Departure_Time\") \\\n",
    "    .withColumnRenamed(\"stops\", \"Stops\") \\\n",
    "    .withColumnRenamed(\"arrival_time\", \"Arrival_Time\") \\\n",
    "    .withColumnRenamed(\"destination_city\", \"Destination_City\") \\\n",
    "    .withColumnRenamed(\"class\", \"Class\") \\\n",
    "    .withColumnRenamed(\"duration\", \"Duration\") \\\n",
    "    .withColumnRenamed(\"days_left\", \"Days_Left\") \\\n",
    "    .withColumnRenamed(\"price\", \"Price\")\n",
    "\n",
    "# Save as a managed Delta table\n",
    "# Here we partition by Source_City for better query performance (can also use Airline or Class depending on queries)\n",
    "df.write \\\n",
    "    .format(\"delta\") \\\n",
    "    .mode(\"overwrite\") \\\n",
    "    .partitionBy(\"Source_City\") \\\n",
    "    .saveAsTable(\"airline_flights_partitioned\")\n"
   ]
  },
  {
   "cell_type": "code",
   "execution_count": 0,
   "metadata": {
    "application/vnd.databricks.v1+cell": {
     "cellMetadata": {
      "byteLimit": 2048000,
      "rowLimit": 10000
     },
     "inputWidgets": {},
     "nuid": "b5b0e50a-1fc6-4e57-ad6f-3d6cfeaa022d",
     "showTitle": false,
     "tableResultSettingsMap": {},
     "title": ""
    }
   },
   "outputs": [],
   "source": [
    "from pyspark.sql import SparkSession\n",
    "from pyspark.sql import functions as F\n",
    "\n",
    "# Create Spark session\n",
    "spark = SparkSession.builder.appName(\"AirlineFlightsData\").getOrCreate()\n",
    "\n",
    "# Read dataset from given path (update to your actual uploaded CSV path in DBFS)\n",
    "df = spark.read.option(\"header\", True).csv(\"/Volumes/workspace/default/test1/\")\n",
    "\n",
    "# 3️⃣ Rename columns for consistency and readability\n",
    "df = df \\\n",
    "    .withColumnRenamed(\"index\", \"Index\") \\\n",
    "    .withColumnRenamed(\"airline\", \"Airline\") \\\n",
    "    .withColumnRenamed(\"flight\", \"Flight\") \\\n",
    "    .withColumnRenamed(\"source_city\", \"Source_City\") \\\n",
    "    .withColumnRenamed(\"departure_time\", \"Departure_Time\") \\\n",
    "    .withColumnRenamed(\"stops\", \"Stops\") \\\n",
    "    .withColumnRenamed(\"arrival_time\", \"Arrival_Time\") \\\n",
    "    .withColumnRenamed(\"destination_city\", \"Destination_City\") \\\n",
    "    .withColumnRenamed(\"class\", \"Class\") \\\n",
    "    .withColumnRenamed(\"duration\", \"Duration\") \\\n",
    "    .withColumnRenamed(\"days_left\", \"Days_Left\") \\\n",
    "    .withColumnRenamed(\"price\", \"Price\")\n",
    "\n",
    "# 4️⃣ Save as a Delta table, partitioned by Source_City for faster queries\n",
    "df.write \\\n",
    "    .format(\"delta\") \\\n",
    "    .mode(\"overwrite\") \\\n",
    "    .partitionBy(\"Source_City\") \\\n",
    "    .option(\"overwriteSchema\", \"true\") \\\n",
    "    .saveAsTable(\"airline_flights_partitioned\")\n"
   ]
  },
  {
   "cell_type": "code",
   "execution_count": 0,
   "metadata": {
    "application/vnd.databricks.v1+cell": {
     "cellMetadata": {
      "byteLimit": 2048000,
      "rowLimit": 10000
     },
     "inputWidgets": {},
     "nuid": "e56235d3-cb62-4f12-b475-0a24d8ea8394",
     "showTitle": false,
     "tableResultSettingsMap": {},
     "title": ""
    }
   },
   "outputs": [
    {
     "output_type": "stream",
     "name": "stdout",
     "output_type": "stream",
     "text": [
      "+-----------+-------------+\n|Source_City|total_flights|\n+-----------+-------------+\n|      Delhi|        61343|\n|     Mumbai|        60896|\n|  Bangalore|        52061|\n|    Kolkata|        46347|\n|  Hyderabad|        40806|\n|    Chennai|        38700|\n+-----------+-------------+\n\n+---------+-------------+\n|  Airline|total_flights|\n+---------+-------------+\n|  Vistara|       127859|\n|Air_India|        80892|\n|   Indigo|        43120|\n| GO_FIRST|        23173|\n|  AirAsia|        16098|\n| SpiceJet|         9011|\n+---------+-------------+\n\n"
     ]
    }
   ],
   "source": [
    "# 1️⃣ Flights per Source City\n",
    "spark.sql(\"\"\"\n",
    "SELECT Source_City, COUNT(*) AS total_flights\n",
    "FROM airline_flights_partitioned\n",
    "GROUP BY Source_City\n",
    "ORDER BY total_flights DESC\n",
    "\"\"\").show()\n",
    "\n",
    "# 2️⃣ Top 10 Airlines by Number of Flights\n",
    "spark.sql(\"\"\"\n",
    "SELECT Airline, COUNT(*) AS total_flights\n",
    "FROM airline_flights_partitioned\n",
    "GROUP BY Airline\n",
    "ORDER BY total_flights DESC\n",
    "LIMIT 10\n",
    "\"\"\").show()\n"
   ]
  },
  {
   "cell_type": "code",
   "execution_count": 0,
   "metadata": {
    "application/vnd.databricks.v1+cell": {
     "cellMetadata": {
      "byteLimit": 2048000,
      "rowLimit": 10000
     },
     "inputWidgets": {},
     "nuid": "933c5515-4bbd-4e95-8f9b-b67d67ba6d6a",
     "showTitle": false,
     "tableResultSettingsMap": {},
     "title": ""
    }
   },
   "outputs": [
    {
     "output_type": "stream",
     "name": "stdout",
     "output_type": "stream",
     "text": [
      "+---------+---------+------------------+-----------------+\n|min_price|max_price|         avg_price|        std_price|\n+---------+---------+------------------+-----------------+\n|    10000|     9999|20889.660523133203|22697.76736607447|\n+---------+---------+------------------+-----------------+\n\n"
     ]
    }
   ],
   "source": [
    "# Numerical column stats (example: Price)\n",
    "spark.sql(\"\"\"\n",
    "SELECT \n",
    "  MIN(Price) AS min_price,\n",
    "  MAX(Price) AS max_price,\n",
    "  AVG(Price) AS avg_price,\n",
    "  STDDEV(Price) AS std_price\n",
    "FROM airline_flights_partitioned\n",
    "\"\"\").show()"
   ]
  },
  {
   "cell_type": "code",
   "execution_count": 0,
   "metadata": {
    "application/vnd.databricks.v1+cell": {
     "cellMetadata": {
      "byteLimit": 2048000,
      "rowLimit": 10000
     },
     "inputWidgets": {},
     "nuid": "6641933d-1b7c-4980-840b-c4c99ce57720",
     "showTitle": false,
     "tableResultSettingsMap": {},
     "title": ""
    }
   },
   "outputs": [
    {
     "output_type": "stream",
     "name": "stdout",
     "output_type": "stream",
     "text": [
      "+-----+-------+------+-----------+--------------+-----+------------+----------------+-----+--------+---------+-----+\n|Index|Airline|Flight|Source_City|Departure_Time|Stops|Arrival_Time|Destination_City|Class|Duration|Days_Left|Price|\n+-----+-------+------+-----------+--------------+-----+------------+----------------+-----+--------+---------+-----+\n|    0|      0|     0|          0|             0|    0|           0|               0|    0|       0|        0|    0|\n+-----+-------+------+-----------+--------------+-----+------------+----------------+-----+--------+---------+-----+\n\n"
     ]
    }
   ],
   "source": [
    "from pyspark.sql.functions import col, sum\n",
    "\n",
    "# Count nulls in each column\n",
    "df.select([\n",
    "    sum(col(c).isNull().cast(\"int\")).alias(c)\n",
    "    for c in df.columns\n",
    "]).show()\n",
    "\n",
    "# Drop rows missing essential info\n",
    "flights_df_clean = df.dropna(subset=[\"Price\", \"Airline\"])\n",
    "\n",
    "# Fill missing categorical values\n",
    "flights_df_clean = flights_df_clean.fillna({\"Source_City\": \"UNKNOWN\"})\n"
   ]
  },
  {
   "cell_type": "code",
   "execution_count": 0,
   "metadata": {
    "application/vnd.databricks.v1+cell": {
     "cellMetadata": {
      "byteLimit": 2048000,
      "rowLimit": 10000
     },
     "inputWidgets": {},
     "nuid": "5ff2af4b-26cb-412b-8e0f-586b3fff4b03",
     "showTitle": false,
     "tableResultSettingsMap": {},
     "title": ""
    }
   },
   "outputs": [
    {
     "output_type": "stream",
     "name": "stdout",
     "output_type": "stream",
     "text": [
      "+-----+--------+-------+-----------+--------------+-----+-------------+----------------+-------+--------+---------+-----+-----------------+---------------+----------------+----------------+--------------+---------------+\n|Index| Airline| Flight|Source_City|Departure_Time|Stops| Arrival_Time|Destination_City|  Class|Duration|Days_Left|Price|Airline_Air_India|Airline_AirAsia|Airline_SpiceJet|Airline_GO_FIRST|Airline_Indigo|Airline_Vistara|\n+-----+--------+-------+-----------+--------------+-----+-------------+----------------+-------+--------+---------+-----+-----------------+---------------+----------------+----------------+--------------+---------------+\n|    0|SpiceJet|SG-8709|      Delhi|       Evening| zero|        Night|          Mumbai|Economy|    2.17|        1| 5953|                0|              0|               1|               0|             0|              0|\n|    1|SpiceJet|SG-8157|      Delhi| Early_Morning| zero|      Morning|          Mumbai|Economy|    2.33|        1| 5953|                0|              0|               1|               0|             0|              0|\n|    2| AirAsia| I5-764|      Delhi| Early_Morning| zero|Early_Morning|          Mumbai|Economy|    2.17|        1| 5956|                0|              1|               0|               0|             0|              0|\n|    3| Vistara| UK-995|      Delhi|       Morning| zero|    Afternoon|          Mumbai|Economy|    2.25|        1| 5955|                0|              0|               0|               0|             0|              1|\n|    4| Vistara| UK-963|      Delhi|       Morning| zero|      Morning|          Mumbai|Economy|    2.33|        1| 5955|                0|              0|               0|               0|             0|              1|\n+-----+--------+-------+-----------+--------------+-----+-------------+----------------+-------+--------+---------+-----+-----------------+---------------+----------------+----------------+--------------+---------------+\nonly showing top 5 rows\n"
     ]
    }
   ],
   "source": [
    "import re\n",
    "from pyspark.sql.functions import when\n",
    "\n",
    "col_to_encode = \"Airline\"\n",
    "categories = [\n",
    "    row[col_to_encode] for row in flights_df_clean.select(col_to_encode).distinct().collect()\n",
    "    if row[col_to_encode] is not None\n",
    "]\n",
    "\n",
    "def safe_col_name(name):\n",
    "    return re.sub(r'[^0-9a-zA-Z_]', '_', str(name))\n",
    "\n",
    "for cat in categories:\n",
    "    flights_df_clean = flights_df_clean.withColumn(\n",
    "        f\"{col_to_encode}_{safe_col_name(cat)}\",\n",
    "        when(col(col_to_encode) == cat, 1).otherwise(0)\n",
    "    )\n",
    "\n",
    "flights_df_clean.show(5)\n"
   ]
  },
  {
   "cell_type": "code",
   "execution_count": 0,
   "metadata": {
    "application/vnd.databricks.v1+cell": {
     "cellMetadata": {
      "byteLimit": 2048000,
      "rowLimit": 10000
     },
     "inputWidgets": {},
     "nuid": "9379a48f-e4c5-46ef-9add-e9cb91b9df6a",
     "showTitle": false,
     "tableResultSettingsMap": {},
     "title": ""
    }
   },
   "outputs": [
    {
     "output_type": "stream",
     "name": "stdout",
     "output_type": "stream",
     "text": [
      "+-----+--------+-------+-----------+--------------+-----+-------------+----------------+-------+--------+---------+-----+-----------------+---------------+----------------+----------------+--------------+---------------+------------------------+----------------------+-----------------------+-----------------------+---------------------+----------------------+\n|Index| Airline| Flight|Source_City|Departure_Time|Stops| Arrival_Time|Destination_City|  Class|Duration|Days_Left|Price|Airline_Air_India|Airline_AirAsia|Airline_SpiceJet|Airline_GO_FIRST|Airline_Indigo|Airline_Vistara|Airline_Air_India_scaled|Airline_AirAsia_scaled|Airline_SpiceJet_scaled|Airline_GO_FIRST_scaled|Airline_Indigo_scaled|Airline_Vistara_scaled|\n+-----+--------+-------+-----------+--------------+-----+-------------+----------------+-------+--------+---------+-----+-----------------+---------------+----------------+----------------+--------------+---------------+------------------------+----------------------+-----------------------+-----------------------+---------------------+----------------------+\n|    0|SpiceJet|SG-8709|      Delhi|       Evening| zero|        Night|          Mumbai|Economy|    2.17|        1| 5953|                0|              0|               1|               0|             0|              0|     -0.6073952172689678|  -0.23805867878657128|       5.68414583994746|   -0.28924522750087633| -0.40958515721554634|   -0.8614495557835288|\n|    1|SpiceJet|SG-8157|      Delhi| Early_Morning| zero|      Morning|          Mumbai|Economy|    2.33|        1| 5953|                0|              0|               1|               0|             0|              0|     -0.6073952172689678|  -0.23805867878657128|       5.68414583994746|   -0.28924522750087633| -0.40958515721554634|   -0.8614495557835288|\n|    2| AirAsia| I5-764|      Delhi| Early_Morning| zero|Early_Morning|          Mumbai|Economy|    2.17|        1| 5956|                0|              1|               0|               0|             0|              0|     -0.6073952172689678|    4.2006310102322955|     -0.175927341859871|   -0.28924522750087633| -0.40958515721554634|   -0.8614495557835288|\n|    3| Vistara| UK-995|      Delhi|       Morning| zero|    Afternoon|          Mumbai|Economy|    2.25|        1| 5955|                0|              0|               0|               0|             0|              1|     -0.6073952172689678|  -0.23805867878657128|     -0.175927341859871|   -0.28924522750087633| -0.40958515721554634|    1.1608302095602758|\n|    4| Vistara| UK-963|      Delhi|       Morning| zero|      Morning|          Mumbai|Economy|    2.33|        1| 5955|                0|              0|               0|               0|             0|              1|     -0.6073952172689678|  -0.23805867878657128|     -0.175927341859871|   -0.28924522750087633| -0.40958515721554634|    1.1608302095602758|\n+-----+--------+-------+-----------+--------------+-----+-------------+----------------+-------+--------+---------+-----+-----------------+---------------+----------------+----------------+--------------+---------------+------------------------+----------------------+-----------------------+-----------------------+---------------------+----------------------+\nonly showing top 5 rows\n"
     ]
    }
   ],
   "source": [
    "from pyspark.sql.functions import mean, stddev\n",
    "from pyspark.sql.types import NumericType\n",
    "\n",
    "numeric_cols = [f.name for f in flights_df_clean.schema.fields if isinstance(f.dataType, NumericType)]\n",
    "df_scaled = flights_df_clean\n",
    "\n",
    "for c_name in numeric_cols:\n",
    "    stats = flights_df_clean.select(\n",
    "        mean(c_name).alias(\"mean_val\"),\n",
    "        stddev(c_name).alias(\"std_val\")\n",
    "    ).collect()[0]\n",
    "\n",
    "    mean_val, std_val = stats[\"mean_val\"], stats[\"std_val\"]\n",
    "\n",
    "    if std_val and std_val != 0:\n",
    "        df_scaled = df_scaled.withColumn(\n",
    "            f\"{c_name}_scaled\",\n",
    "            (col(c_name) - mean_val) / std_val\n",
    "        )\n",
    "\n",
    "df_scaled.show(5)\n"
   ]
  },
  {
   "cell_type": "code",
   "execution_count": 0,
   "metadata": {
    "application/vnd.databricks.v1+cell": {
     "cellMetadata": {
      "byteLimit": 2048000,
      "rowLimit": 10000
     },
     "inputWidgets": {},
     "nuid": "59c93296-21c8-410e-bb3f-9c81c44821e1",
     "showTitle": false,
     "tableResultSettingsMap": {},
     "title": ""
    }
   },
   "outputs": [
    {
     "output_type": "stream",
     "name": "stdout",
     "output_type": "stream",
     "text": [
      "+-----+---------+-------+-----------+--------------+-----+-------------+----------------+-------+--------+---------+-----+-----------------+---------------+----------------+----------------+--------------+---------------+\n|Index|  Airline| Flight|Source_City|Departure_Time|Stops| Arrival_Time|Destination_City|  Class|Duration|Days_Left|Price|Airline_Air_India|Airline_AirAsia|Airline_SpiceJet|Airline_GO_FIRST|Airline_Indigo|Airline_Vistara|\n+-----+---------+-------+-----------+--------------+-----+-------------+----------------+-------+--------+---------+-----+-----------------+---------------+----------------+----------------+--------------+---------------+\n|    0| SpiceJet|SG-8709|      Delhi|       Evening| zero|        Night|          Mumbai|Economy|    2.17|        1| 5953|                0|              0|               1|               0|             0|              0|\n|    1| SpiceJet|SG-8157|      Delhi| Early_Morning| zero|      Morning|          Mumbai|Economy|    2.33|        1| 5953|                0|              0|               1|               0|             0|              0|\n|    2|  AirAsia| I5-764|      Delhi| Early_Morning| zero|Early_Morning|          Mumbai|Economy|    2.17|        1| 5956|                0|              1|               0|               0|             0|              0|\n|    3|  Vistara| UK-995|      Delhi|       Morning| zero|    Afternoon|          Mumbai|Economy|    2.25|        1| 5955|                0|              0|               0|               0|             0|              1|\n|    4|  Vistara| UK-963|      Delhi|       Morning| zero|      Morning|          Mumbai|Economy|    2.33|        1| 5955|                0|              0|               0|               0|             0|              1|\n|    5|  Vistara| UK-945|      Delhi|       Morning| zero|    Afternoon|          Mumbai|Economy|    2.33|        1| 5955|                0|              0|               0|               0|             0|              1|\n|    6|  Vistara| UK-927|      Delhi|       Morning| zero|      Morning|          Mumbai|Economy|    2.08|        1| 6060|                0|              0|               0|               0|             0|              1|\n|    7|  Vistara| UK-951|      Delhi|     Afternoon| zero|      Evening|          Mumbai|Economy|    2.17|        1| 6060|                0|              0|               0|               0|             0|              1|\n|    8| GO_FIRST| G8-334|      Delhi| Early_Morning| zero|      Morning|          Mumbai|Economy|    2.17|        1| 5954|                0|              0|               0|               1|             0|              0|\n|    9| GO_FIRST| G8-336|      Delhi|     Afternoon| zero|      Evening|          Mumbai|Economy|    2.25|        1| 5954|                0|              0|               0|               1|             0|              0|\n|   10| GO_FIRST| G8-392|      Delhi|     Afternoon| zero|      Evening|          Mumbai|Economy|    2.25|        1| 5954|                0|              0|               0|               1|             0|              0|\n|   11| GO_FIRST| G8-338|      Delhi|       Morning| zero|    Afternoon|          Mumbai|Economy|    2.33|        1| 5954|                0|              0|               0|               1|             0|              0|\n|   12|   Indigo|6E-5001|      Delhi| Early_Morning| zero|      Morning|          Mumbai|Economy|    2.17|        1| 5955|                0|              0|               0|               0|             1|              0|\n|   13|   Indigo|6E-6202|      Delhi|       Morning| zero|    Afternoon|          Mumbai|Economy|    2.17|        1| 5955|                0|              0|               0|               0|             1|              0|\n|   14|   Indigo| 6E-549|      Delhi|     Afternoon| zero|      Evening|          Mumbai|Economy|    2.25|        1| 5955|                0|              0|               0|               0|             1|              0|\n|   15|   Indigo|6E-6278|      Delhi|       Morning| zero|      Morning|          Mumbai|Economy|    2.33|        1| 5955|                0|              0|               0|               0|             1|              0|\n|   16|Air_India| AI-887|      Delhi| Early_Morning| zero|      Morning|          Mumbai|Economy|    2.08|        1| 5955|                1|              0|               0|               0|             0|              0|\n|   17|Air_India| AI-665|      Delhi| Early_Morning| zero|      Morning|          Mumbai|Economy|    2.17|        1| 5955|                1|              0|               0|               0|             0|              0|\n|   18|  AirAsia| I5-747|      Delhi|       Evening|  one|Early_Morning|          Mumbai|Economy|   12.25|        1| 5949|                0|              1|               0|               0|             0|              0|\n|   19|  AirAsia| I5-747|      Delhi|       Evening|  one|      Morning|          Mumbai|Economy|   16.33|        1| 5949|                0|              1|               0|               0|             0|              0|\n+-----+---------+-------+-----------+--------------+-----+-------------+----------------+-------+--------+---------+-----+-----------------+---------------+----------------+----------------+--------------+---------------+\nonly showing top 20 rows\n"
     ]
    }
   ],
   "source": [
    "flights_df_clean.show();"
   ]
  },
  {
   "cell_type": "code",
   "execution_count": 0,
   "metadata": {
    "application/vnd.databricks.v1+cell": {
     "cellMetadata": {
      "byteLimit": 2048000,
      "rowLimit": 10000
     },
     "inputWidgets": {},
     "nuid": "c93e5908-df20-4898-9eaf-2ac3d0ef9a05",
     "showTitle": false,
     "tableResultSettingsMap": {},
     "title": ""
    }
   },
   "outputs": [],
   "source": [
    "from pyspark.sql.functions import col\n",
    "import re\n",
    "\n",
    "# Function to sanitize column names\n",
    "def clean_col_name(c):\n",
    "    return re.sub(r'[^0-9a-zA-Z_]', '_', c)  # replace non-alphanumeric chars with \"_\"\n",
    "\n",
    "# Rename columns\n",
    "df_scaled_clean = df_scaled.select(\n",
    "    [col(c).alias(clean_col_name(c)) for c in df_scaled.columns]\n",
    ")\n",
    "\n",
    "# Check if 'Year' exists before partitioning\n",
    "if \"Year\" in df_scaled_clean.columns:\n",
    "    df_scaled_clean.write.format(\"delta\") \\\n",
    "        .mode(\"overwrite\") \\\n",
    "        .partitionBy(\"Year\") \\\n",
    "        .saveAsTable(\"airline_flights_cleaned\")\n",
    "else:\n",
    "    df_scaled_clean.write.format(\"delta\") \\\n",
    "        .mode(\"overwrite\") \\\n",
    "        .saveAsTable(\"airline_flights_cleaned\")\n"
   ]
  },
  {
   "cell_type": "code",
   "execution_count": 0,
   "metadata": {
    "application/vnd.databricks.v1+cell": {
     "cellMetadata": {
      "byteLimit": 2048000,
      "implicitDf": true,
      "rowLimit": 10000
     },
     "inputWidgets": {},
     "nuid": "1e6a2876-83d2-4ea6-8369-e72f86d21e2c",
     "showTitle": false,
     "tableResultSettingsMap": {},
     "title": ""
    }
   },
   "outputs": [
    {
     "output_type": "display_data",
     "data": {
      "text/html": [
       "<style scoped>\n",
       "  .table-result-container {\n",
       "    max-height: 300px;\n",
       "    overflow: auto;\n",
       "  }\n",
       "  table, th, td {\n",
       "    border: 1px solid black;\n",
       "    border-collapse: collapse;\n",
       "  }\n",
       "  th, td {\n",
       "    padding: 5px;\n",
       "  }\n",
       "  th {\n",
       "    text-align: left;\n",
       "  }\n",
       "</style><div class='table-result-container'><table class='table-result'><thead style='background-color: white'><tr><th>col_name</th><th>data_type</th><th>comment</th></tr></thead><tbody><tr><td>index</td><td>bigint</td><td>null</td></tr><tr><td>airline</td><td>string</td><td>null</td></tr><tr><td>flight</td><td>string</td><td>null</td></tr><tr><td>source_city</td><td>string</td><td>null</td></tr><tr><td>departure_time</td><td>string</td><td>null</td></tr><tr><td>stops</td><td>string</td><td>null</td></tr><tr><td>arrival_time</td><td>string</td><td>null</td></tr><tr><td>destination_city</td><td>string</td><td>null</td></tr><tr><td>class</td><td>string</td><td>null</td></tr><tr><td>duration</td><td>double</td><td>null</td></tr><tr><td>days_left</td><td>bigint</td><td>null</td></tr><tr><td>price</td><td>bigint</td><td>null</td></tr><tr><td></td><td></td><td></td></tr><tr><td># Delta Statistics Columns</td><td></td><td></td></tr><tr><td>Column Names</td><td>duration, flight, price, days_left, class, airline, destination_city, index, departure_time, arrival_time, stops, source_city</td><td></td></tr><tr><td>Column Selection Method</td><td>first-32</td><td></td></tr><tr><td></td><td></td><td></td></tr><tr><td># Detailed Table Information</td><td></td><td></td></tr><tr><td>Catalog</td><td>workspace</td><td></td></tr><tr><td>Database</td><td>default</td><td></td></tr><tr><td>Table</td><td>airlines_flights_data</td><td></td></tr><tr><td>Created Time</td><td>Tue Aug 12 15:32:15 UTC 2025</td><td></td></tr><tr><td>Last Access</td><td>UNKNOWN</td><td></td></tr><tr><td>Created By</td><td>Spark </td><td></td></tr><tr><td>Statistics</td><td>2528826 bytes, 300153 rows</td><td></td></tr><tr><td>Type</td><td>MANAGED</td><td></td></tr><tr><td>Comment</td><td>The table contains data related to airline flights, including details such as the airline name, flight number, source and destination cities, departure and arrival times, number of stops, class of service, flight duration, days left until departure, and ticket price. This data can be used for analyzing flight options, pricing strategies, and travel trends.</td><td></td></tr><tr><td>Location</td><td></td><td></td></tr><tr><td>Provider</td><td>delta</td><td></td></tr><tr><td>Owner</td><td>as9987@srmist.edu.in</td><td></td></tr><tr><td>Is_managed_location</td><td>true</td><td></td></tr><tr><td>Predictive Optimization</td><td>ENABLE (inherited from METASTORE metastore_aws_ap_southeast_2)</td><td></td></tr><tr><td>Table Properties</td><td>[delta.checkpoint.writeStatsAsJson=false,delta.checkpoint.writeStatsAsStruct=true,delta.enableDeletionVectors=true,delta.feature.appendOnly=supported,delta.feature.deletionVectors=supported,delta.feature.invariants=supported,delta.minReaderVersion=3,delta.minWriterVersion=7]</td><td></td></tr></tbody></table></div>"
      ]
     },
     "metadata": {
      "application/vnd.databricks.v1+output": {
       "addedWidgets": {},
       "aggData": [],
       "aggError": "",
       "aggOverflow": false,
       "aggSchema": [],
       "aggSeriesLimitReached": false,
       "aggType": "",
       "arguments": {},
       "columnCustomDisplayInfos": {},
       "data": [
        [
         "index",
         "bigint",
         null
        ],
        [
         "airline",
         "string",
         null
        ],
        [
         "flight",
         "string",
         null
        ],
        [
         "source_city",
         "string",
         null
        ],
        [
         "departure_time",
         "string",
         null
        ],
        [
         "stops",
         "string",
         null
        ],
        [
         "arrival_time",
         "string",
         null
        ],
        [
         "destination_city",
         "string",
         null
        ],
        [
         "class",
         "string",
         null
        ],
        [
         "duration",
         "double",
         null
        ],
        [
         "days_left",
         "bigint",
         null
        ],
        [
         "price",
         "bigint",
         null
        ],
        [
         "",
         "",
         ""
        ],
        [
         "# Delta Statistics Columns",
         "",
         ""
        ],
        [
         "Column Names",
         "duration, flight, price, days_left, class, airline, destination_city, index, departure_time, arrival_time, stops, source_city",
         ""
        ],
        [
         "Column Selection Method",
         "first-32",
         ""
        ],
        [
         "",
         "",
         ""
        ],
        [
         "# Detailed Table Information",
         "",
         ""
        ],
        [
         "Catalog",
         "workspace",
         ""
        ],
        [
         "Database",
         "default",
         ""
        ],
        [
         "Table",
         "airlines_flights_data",
         ""
        ],
        [
         "Created Time",
         "Tue Aug 12 15:32:15 UTC 2025",
         ""
        ],
        [
         "Last Access",
         "UNKNOWN",
         ""
        ],
        [
         "Created By",
         "Spark ",
         ""
        ],
        [
         "Statistics",
         "2528826 bytes, 300153 rows",
         ""
        ],
        [
         "Type",
         "MANAGED",
         ""
        ],
        [
         "Comment",
         "The table contains data related to airline flights, including details such as the airline name, flight number, source and destination cities, departure and arrival times, number of stops, class of service, flight duration, days left until departure, and ticket price. This data can be used for analyzing flight options, pricing strategies, and travel trends.",
         ""
        ],
        [
         "Location",
         "",
         ""
        ],
        [
         "Provider",
         "delta",
         ""
        ],
        [
         "Owner",
         "as9987@srmist.edu.in",
         ""
        ],
        [
         "Is_managed_location",
         "true",
         ""
        ],
        [
         "Predictive Optimization",
         "ENABLE (inherited from METASTORE metastore_aws_ap_southeast_2)",
         ""
        ],
        [
         "Table Properties",
         "[delta.checkpoint.writeStatsAsJson=false,delta.checkpoint.writeStatsAsStruct=true,delta.enableDeletionVectors=true,delta.feature.appendOnly=supported,delta.feature.deletionVectors=supported,delta.feature.invariants=supported,delta.minReaderVersion=3,delta.minWriterVersion=7]",
         ""
        ]
       ],
       "datasetInfos": [
        {
         "name": "_sqldf",
         "schema": {
          "fields": [
           {
            "metadata": {},
            "name": "col_name",
            "nullable": false,
            "type": "string"
           },
           {
            "metadata": {},
            "name": "data_type",
            "nullable": false,
            "type": "string"
           },
           {
            "metadata": {},
            "name": "comment",
            "nullable": true,
            "type": "string"
           }
          ],
          "type": "struct"
         },
         "tableIdentifier": null,
         "typeStr": "pyspark.sql.connect.dataframe.DataFrame"
        }
       ],
       "dbfsResultPath": null,
       "isJsonSchema": true,
       "metadata": {
        "createTempViewForImplicitDf": true,
        "dataframeName": "_sqldf",
        "executionCount": 53
       },
       "overflow": false,
       "plotOptions": {
        "customPlotOptions": {},
        "displayType": "table",
        "pivotAggregation": null,
        "pivotColumns": null,
        "xColumns": null,
        "yColumns": null
       },
       "removedWidgets": [],
       "schema": [
        {
         "metadata": "{}",
         "name": "col_name",
         "type": "\"string\""
        },
        {
         "metadata": "{}",
         "name": "data_type",
         "type": "\"string\""
        },
        {
         "metadata": "{}",
         "name": "comment",
         "type": "\"string\""
        }
       ],
       "type": "table"
      }
     },
     "output_type": "display_data"
    }
   ],
   "source": [
    "%sql\n",
    "DESCRIBE EXTENDED airlines_flights_data\n"
   ]
  },
  {
   "cell_type": "code",
   "execution_count": 0,
   "metadata": {
    "application/vnd.databricks.v1+cell": {
     "cellMetadata": {
      "byteLimit": 2048000,
      "implicitDf": true,
      "rowLimit": 10000
     },
     "inputWidgets": {},
     "nuid": "b2cb7734-d772-4c95-856f-55a3503c979f",
     "showTitle": false,
     "tableResultSettingsMap": {},
     "title": ""
    }
   },
   "outputs": [
    {
     "output_type": "display_data",
     "data": {
      "text/html": [
       "<style scoped>\n",
       "  .table-result-container {\n",
       "    max-height: 300px;\n",
       "    overflow: auto;\n",
       "  }\n",
       "  table, th, td {\n",
       "    border: 1px solid black;\n",
       "    border-collapse: collapse;\n",
       "  }\n",
       "  th, td {\n",
       "    padding: 5px;\n",
       "  }\n",
       "  th {\n",
       "    text-align: left;\n",
       "  }\n",
       "</style><div class='table-result-container'><table class='table-result'><thead style='background-color: white'><tr><th>col_name</th><th>data_type</th><th>comment</th></tr></thead><tbody><tr><td>Index</td><td>string</td><td>null</td></tr><tr><td>Airline</td><td>string</td><td>null</td></tr><tr><td>Flight</td><td>string</td><td>null</td></tr><tr><td>Source_City</td><td>string</td><td>null</td></tr><tr><td>Departure_Time</td><td>string</td><td>null</td></tr><tr><td>Stops</td><td>string</td><td>null</td></tr><tr><td>Arrival_Time</td><td>string</td><td>null</td></tr><tr><td>Destination_City</td><td>string</td><td>null</td></tr><tr><td>Class</td><td>string</td><td>null</td></tr><tr><td>Duration</td><td>string</td><td>null</td></tr><tr><td>Days_Left</td><td>string</td><td>null</td></tr><tr><td>Price</td><td>string</td><td>null</td></tr><tr><td>Airline_Air_India</td><td>int</td><td>null</td></tr><tr><td>Airline_AirAsia</td><td>int</td><td>null</td></tr><tr><td>Airline_SpiceJet</td><td>int</td><td>null</td></tr><tr><td>Airline_GO_FIRST</td><td>int</td><td>null</td></tr><tr><td>Airline_Indigo</td><td>int</td><td>null</td></tr><tr><td>Airline_Vistara</td><td>int</td><td>null</td></tr><tr><td>Airline_Air_India_scaled</td><td>double</td><td>null</td></tr><tr><td>Airline_AirAsia_scaled</td><td>double</td><td>null</td></tr><tr><td>Airline_SpiceJet_scaled</td><td>double</td><td>null</td></tr><tr><td>Airline_GO_FIRST_scaled</td><td>double</td><td>null</td></tr><tr><td>Airline_Indigo_scaled</td><td>double</td><td>null</td></tr><tr><td>Airline_Vistara_scaled</td><td>double</td><td>null</td></tr><tr><td></td><td></td><td></td></tr><tr><td># Delta Statistics Columns</td><td></td><td></td></tr><tr><td>Column Names</td><td>Airline_AirAsia, Airline_GO_FIRST_scaled, Price, Airline, Source_City, Airline_SpiceJet, Days_Left, Duration, Stops, Airline_AirAsia_scaled, Airline_Vistara_scaled, Departure_Time, Airline_Indigo_scaled, Airline_GO_FIRST, Arrival_Time, Airline_SpiceJet_scaled, Airline_Indigo, Flight, Class, Airline_Air_India, Airline_Air_India_scaled, Airline_Vistara, Index, Destination_City</td><td></td></tr><tr><td>Column Selection Method</td><td>first-32</td><td></td></tr><tr><td></td><td></td><td></td></tr><tr><td># Detailed Table Information</td><td></td><td></td></tr><tr><td>Catalog</td><td>workspace</td><td></td></tr><tr><td>Database</td><td>default</td><td></td></tr><tr><td>Table</td><td>airline_flights_cleaned</td><td></td></tr><tr><td>Created Time</td><td>Tue Aug 12 17:01:07 UTC 2025</td><td></td></tr><tr><td>Last Access</td><td>UNKNOWN</td><td></td></tr><tr><td>Created By</td><td>Spark </td><td></td></tr><tr><td>Statistics</td><td>3000673 bytes, 300153 rows</td><td></td></tr><tr><td>Type</td><td>MANAGED</td><td></td></tr><tr><td>Location</td><td></td><td></td></tr><tr><td>Provider</td><td>delta</td><td></td></tr><tr><td>Owner</td><td>as9987@srmist.edu.in</td><td></td></tr><tr><td>Is_managed_location</td><td>true</td><td></td></tr><tr><td>Predictive Optimization</td><td>ENABLE (inherited from METASTORE metastore_aws_ap_southeast_2)</td><td></td></tr><tr><td>Table Properties</td><td>[delta.enableDeletionVectors=true,delta.feature.appendOnly=supported,delta.feature.deletionVectors=supported,delta.feature.invariants=supported,delta.minReaderVersion=3,delta.minWriterVersion=7]</td><td></td></tr></tbody></table></div>"
      ]
     },
     "metadata": {
      "application/vnd.databricks.v1+output": {
       "addedWidgets": {},
       "aggData": [],
       "aggError": "",
       "aggOverflow": false,
       "aggSchema": [],
       "aggSeriesLimitReached": false,
       "aggType": "",
       "arguments": {},
       "columnCustomDisplayInfos": {},
       "data": [
        [
         "Index",
         "string",
         null
        ],
        [
         "Airline",
         "string",
         null
        ],
        [
         "Flight",
         "string",
         null
        ],
        [
         "Source_City",
         "string",
         null
        ],
        [
         "Departure_Time",
         "string",
         null
        ],
        [
         "Stops",
         "string",
         null
        ],
        [
         "Arrival_Time",
         "string",
         null
        ],
        [
         "Destination_City",
         "string",
         null
        ],
        [
         "Class",
         "string",
         null
        ],
        [
         "Duration",
         "string",
         null
        ],
        [
         "Days_Left",
         "string",
         null
        ],
        [
         "Price",
         "string",
         null
        ],
        [
         "Airline_Air_India",
         "int",
         null
        ],
        [
         "Airline_AirAsia",
         "int",
         null
        ],
        [
         "Airline_SpiceJet",
         "int",
         null
        ],
        [
         "Airline_GO_FIRST",
         "int",
         null
        ],
        [
         "Airline_Indigo",
         "int",
         null
        ],
        [
         "Airline_Vistara",
         "int",
         null
        ],
        [
         "Airline_Air_India_scaled",
         "double",
         null
        ],
        [
         "Airline_AirAsia_scaled",
         "double",
         null
        ],
        [
         "Airline_SpiceJet_scaled",
         "double",
         null
        ],
        [
         "Airline_GO_FIRST_scaled",
         "double",
         null
        ],
        [
         "Airline_Indigo_scaled",
         "double",
         null
        ],
        [
         "Airline_Vistara_scaled",
         "double",
         null
        ],
        [
         "",
         "",
         ""
        ],
        [
         "# Delta Statistics Columns",
         "",
         ""
        ],
        [
         "Column Names",
         "Airline_AirAsia, Airline_GO_FIRST_scaled, Price, Airline, Source_City, Airline_SpiceJet, Days_Left, Duration, Stops, Airline_AirAsia_scaled, Airline_Vistara_scaled, Departure_Time, Airline_Indigo_scaled, Airline_GO_FIRST, Arrival_Time, Airline_SpiceJet_scaled, Airline_Indigo, Flight, Class, Airline_Air_India, Airline_Air_India_scaled, Airline_Vistara, Index, Destination_City",
         ""
        ],
        [
         "Column Selection Method",
         "first-32",
         ""
        ],
        [
         "",
         "",
         ""
        ],
        [
         "# Detailed Table Information",
         "",
         ""
        ],
        [
         "Catalog",
         "workspace",
         ""
        ],
        [
         "Database",
         "default",
         ""
        ],
        [
         "Table",
         "airline_flights_cleaned",
         ""
        ],
        [
         "Created Time",
         "Tue Aug 12 17:01:07 UTC 2025",
         ""
        ],
        [
         "Last Access",
         "UNKNOWN",
         ""
        ],
        [
         "Created By",
         "Spark ",
         ""
        ],
        [
         "Statistics",
         "3000673 bytes, 300153 rows",
         ""
        ],
        [
         "Type",
         "MANAGED",
         ""
        ],
        [
         "Location",
         "",
         ""
        ],
        [
         "Provider",
         "delta",
         ""
        ],
        [
         "Owner",
         "as9987@srmist.edu.in",
         ""
        ],
        [
         "Is_managed_location",
         "true",
         ""
        ],
        [
         "Predictive Optimization",
         "ENABLE (inherited from METASTORE metastore_aws_ap_southeast_2)",
         ""
        ],
        [
         "Table Properties",
         "[delta.enableDeletionVectors=true,delta.feature.appendOnly=supported,delta.feature.deletionVectors=supported,delta.feature.invariants=supported,delta.minReaderVersion=3,delta.minWriterVersion=7]",
         ""
        ]
       ],
       "datasetInfos": [
        {
         "name": "_sqldf",
         "schema": {
          "fields": [
           {
            "metadata": {},
            "name": "col_name",
            "nullable": false,
            "type": "string"
           },
           {
            "metadata": {},
            "name": "data_type",
            "nullable": false,
            "type": "string"
           },
           {
            "metadata": {},
            "name": "comment",
            "nullable": true,
            "type": "string"
           }
          ],
          "type": "struct"
         },
         "tableIdentifier": null,
         "typeStr": "pyspark.sql.connect.dataframe.DataFrame"
        }
       ],
       "dbfsResultPath": null,
       "isJsonSchema": true,
       "metadata": {
        "createTempViewForImplicitDf": true,
        "dataframeName": "_sqldf",
        "executionCount": 54
       },
       "overflow": false,
       "plotOptions": {
        "customPlotOptions": {},
        "displayType": "table",
        "pivotAggregation": null,
        "pivotColumns": null,
        "xColumns": null,
        "yColumns": null
       },
       "removedWidgets": [],
       "schema": [
        {
         "metadata": "{}",
         "name": "col_name",
         "type": "\"string\""
        },
        {
         "metadata": "{}",
         "name": "data_type",
         "type": "\"string\""
        },
        {
         "metadata": "{}",
         "name": "comment",
         "type": "\"string\""
        }
       ],
       "type": "table"
      }
     },
     "output_type": "display_data"
    }
   ],
   "source": [
    "%sql\n",
    "DESCRIBE EXTENDED airline_flights_cleaned\n"
   ]
  },
  {
   "cell_type": "code",
   "execution_count": 0,
   "metadata": {
    "application/vnd.databricks.v1+cell": {
     "cellMetadata": {
      "byteLimit": 2048000,
      "implicitDf": true,
      "rowLimit": 10000
     },
     "inputWidgets": {},
     "nuid": "6aa1117d-46f4-4cfe-99f5-0f0fee1c5b65",
     "showTitle": false,
     "tableResultSettingsMap": {},
     "title": ""
    }
   },
   "outputs": [
    {
     "output_type": "display_data",
     "data": {
      "text/html": [
       "<style scoped>\n",
       "  .table-result-container {\n",
       "    max-height: 300px;\n",
       "    overflow: auto;\n",
       "  }\n",
       "  table, th, td {\n",
       "    border: 1px solid black;\n",
       "    border-collapse: collapse;\n",
       "  }\n",
       "  th, td {\n",
       "    padding: 5px;\n",
       "  }\n",
       "  th {\n",
       "    text-align: left;\n",
       "  }\n",
       "</style><div class='table-result-container'><table class='table-result'><thead style='background-color: white'><tr><th>Airline</th><th>total_flights</th></tr></thead><tbody><tr><td>Vistara</td><td>127859</td></tr><tr><td>Air_India</td><td>80892</td></tr><tr><td>Indigo</td><td>43120</td></tr><tr><td>GO_FIRST</td><td>23173</td></tr><tr><td>AirAsia</td><td>16098</td></tr><tr><td>SpiceJet</td><td>9011</td></tr></tbody></table></div>"
      ]
     },
     "metadata": {
      "application/vnd.databricks.v1+output": {
       "addedWidgets": {},
       "aggData": [],
       "aggError": "",
       "aggOverflow": false,
       "aggSchema": [],
       "aggSeriesLimitReached": false,
       "aggType": "",
       "arguments": {},
       "columnCustomDisplayInfos": {},
       "data": [
        [
         "Vistara",
         127859
        ],
        [
         "Air_India",
         80892
        ],
        [
         "Indigo",
         43120
        ],
        [
         "GO_FIRST",
         23173
        ],
        [
         "AirAsia",
         16098
        ],
        [
         "SpiceJet",
         9011
        ]
       ],
       "datasetInfos": [
        {
         "name": "_sqldf",
         "schema": {
          "fields": [
           {
            "metadata": {},
            "name": "Airline",
            "nullable": true,
            "type": "string"
           },
           {
            "metadata": {},
            "name": "total_flights",
            "nullable": false,
            "type": "long"
           }
          ],
          "type": "struct"
         },
         "tableIdentifier": null,
         "typeStr": "pyspark.sql.connect.dataframe.DataFrame"
        }
       ],
       "dbfsResultPath": null,
       "isJsonSchema": true,
       "metadata": {
        "createTempViewForImplicitDf": true,
        "dataframeName": "_sqldf",
        "executionCount": 96
       },
       "overflow": false,
       "plotOptions": {
        "customPlotOptions": {},
        "displayType": "table",
        "pivotAggregation": null,
        "pivotColumns": null,
        "xColumns": null,
        "yColumns": null
       },
       "removedWidgets": [],
       "schema": [
        {
         "metadata": "{}",
         "name": "Airline",
         "type": "\"string\""
        },
        {
         "metadata": "{}",
         "name": "total_flights",
         "type": "\"long\""
        }
       ],
       "type": "table"
      }
     },
     "output_type": "display_data"
    }
   ],
   "source": [
    "%sql\n",
    "SELECT Airline, COUNT(*) AS total_flights\n",
    "FROM airline_flights_cleaned\n",
    "GROUP BY Airline\n",
    "ORDER BY total_flights DESC\n",
    "LIMIT 10;\n",
    "\n"
   ]
  },
  {
   "cell_type": "code",
   "execution_count": 0,
   "metadata": {
    "application/vnd.databricks.v1+cell": {
     "cellMetadata": {
      "byteLimit": 2048000,
      "implicitDf": true,
      "rowLimit": 10000
     },
     "inputWidgets": {},
     "nuid": "413af455-850d-499f-add5-a5ecd0ecf946",
     "showTitle": false,
     "tableResultSettingsMap": {},
     "title": ""
    }
   },
   "outputs": [
    {
     "output_type": "display_data",
     "data": {
      "text/html": [
       "<style scoped>\n",
       "  .table-result-container {\n",
       "    max-height: 300px;\n",
       "    overflow: auto;\n",
       "  }\n",
       "  table, th, td {\n",
       "    border: 1px solid black;\n",
       "    border-collapse: collapse;\n",
       "  }\n",
       "  th, td {\n",
       "    padding: 5px;\n",
       "  }\n",
       "  th {\n",
       "    text-align: left;\n",
       "  }\n",
       "</style><div class='table-result-container'><table class='table-result'><thead style='background-color: white'><tr><th>Class</th><th>total_flights</th></tr></thead><tbody><tr><td>Economy</td><td>206666</td></tr><tr><td>Business</td><td>93487</td></tr></tbody></table></div>"
      ]
     },
     "metadata": {
      "application/vnd.databricks.v1+output": {
       "addedWidgets": {},
       "aggData": [],
       "aggError": "",
       "aggOverflow": false,
       "aggSchema": [],
       "aggSeriesLimitReached": false,
       "aggType": "",
       "arguments": {},
       "columnCustomDisplayInfos": {},
       "data": [
        [
         "Economy",
         206666
        ],
        [
         "Business",
         93487
        ]
       ],
       "datasetInfos": [
        {
         "name": "_sqldf",
         "schema": {
          "fields": [
           {
            "metadata": {},
            "name": "Class",
            "nullable": true,
            "type": "string"
           },
           {
            "metadata": {},
            "name": "total_flights",
            "nullable": false,
            "type": "long"
           }
          ],
          "type": "struct"
         },
         "tableIdentifier": null,
         "typeStr": "pyspark.sql.connect.dataframe.DataFrame"
        }
       ],
       "dbfsResultPath": null,
       "isJsonSchema": true,
       "metadata": {
        "createTempViewForImplicitDf": true,
        "dataframeName": "_sqldf",
        "executionCount": 97
       },
       "overflow": false,
       "plotOptions": {
        "customPlotOptions": {},
        "displayType": "table",
        "pivotAggregation": null,
        "pivotColumns": null,
        "xColumns": null,
        "yColumns": null
       },
       "removedWidgets": [],
       "schema": [
        {
         "metadata": "{}",
         "name": "Class",
         "type": "\"string\""
        },
        {
         "metadata": "{}",
         "name": "total_flights",
         "type": "\"long\""
        }
       ],
       "type": "table"
      }
     },
     "output_type": "display_data"
    }
   ],
   "source": [
    "%sql\n",
    "SELECT Class, COUNT(*) AS total_flights\n",
    "FROM airline_flights_cleaned\n",
    "GROUP BY Class\n",
    "ORDER BY total_flights DESC;\n"
   ]
  },
  {
   "cell_type": "code",
   "execution_count": 0,
   "metadata": {
    "application/vnd.databricks.v1+cell": {
     "cellMetadata": {
      "byteLimit": 2048000,
      "implicitDf": true,
      "rowLimit": 10000
     },
     "inputWidgets": {},
     "nuid": "e68e5839-59b4-400d-b204-d57693254ebd",
     "showTitle": false,
     "tableResultSettingsMap": {},
     "title": ""
    }
   },
   "outputs": [
    {
     "output_type": "display_data",
     "data": {
      "text/html": [
       "<style scoped>\n",
       "  .table-result-container {\n",
       "    max-height: 300px;\n",
       "    overflow: auto;\n",
       "  }\n",
       "  table, th, td {\n",
       "    border: 1px solid black;\n",
       "    border-collapse: collapse;\n",
       "  }\n",
       "  th, td {\n",
       "    padding: 5px;\n",
       "  }\n",
       "  th {\n",
       "    text-align: left;\n",
       "  }\n",
       "</style><div class='table-result-container'><table class='table-result'><thead style='background-color: white'><tr><th>Source_City</th><th>total_flights</th></tr></thead><tbody><tr><td>Delhi</td><td>61343</td></tr><tr><td>Mumbai</td><td>60896</td></tr><tr><td>Bangalore</td><td>52061</td></tr><tr><td>Kolkata</td><td>46347</td></tr><tr><td>Hyderabad</td><td>40806</td></tr><tr><td>Chennai</td><td>38700</td></tr></tbody></table></div>"
      ]
     },
     "metadata": {
      "application/vnd.databricks.v1+output": {
       "addedWidgets": {},
       "aggData": [],
       "aggError": "",
       "aggOverflow": false,
       "aggSchema": [],
       "aggSeriesLimitReached": false,
       "aggType": "",
       "arguments": {},
       "columnCustomDisplayInfos": {},
       "data": [
        [
         "Delhi",
         61343
        ],
        [
         "Mumbai",
         60896
        ],
        [
         "Bangalore",
         52061
        ],
        [
         "Kolkata",
         46347
        ],
        [
         "Hyderabad",
         40806
        ],
        [
         "Chennai",
         38700
        ]
       ],
       "datasetInfos": [
        {
         "name": "_sqldf",
         "schema": {
          "fields": [
           {
            "metadata": {},
            "name": "Source_City",
            "nullable": true,
            "type": "string"
           },
           {
            "metadata": {},
            "name": "total_flights",
            "nullable": false,
            "type": "long"
           }
          ],
          "type": "struct"
         },
         "tableIdentifier": null,
         "typeStr": "pyspark.sql.connect.dataframe.DataFrame"
        }
       ],
       "dbfsResultPath": null,
       "isJsonSchema": true,
       "metadata": {
        "createTempViewForImplicitDf": true,
        "dataframeName": "_sqldf",
        "executionCount": 98
       },
       "overflow": false,
       "plotOptions": {
        "customPlotOptions": {},
        "displayType": "table",
        "pivotAggregation": null,
        "pivotColumns": null,
        "xColumns": null,
        "yColumns": null
       },
       "removedWidgets": [],
       "schema": [
        {
         "metadata": "{}",
         "name": "Source_City",
         "type": "\"string\""
        },
        {
         "metadata": "{}",
         "name": "total_flights",
         "type": "\"long\""
        }
       ],
       "type": "table"
      }
     },
     "output_type": "display_data"
    }
   ],
   "source": [
    "%sql\n",
    "SELECT Source_City, COUNT(*) AS total_flights\n",
    "FROM airline_flights_cleaned\n",
    "GROUP BY Source_City\n",
    "ORDER BY total_flights DESC;\n"
   ]
  },
  {
   "cell_type": "code",
   "execution_count": 0,
   "metadata": {
    "application/vnd.databricks.v1+cell": {
     "cellMetadata": {
      "byteLimit": 2048000,
      "implicitDf": true,
      "rowLimit": 10000
     },
     "inputWidgets": {},
     "nuid": "bc4cd644-e73c-42f8-a13c-97ce90242201",
     "showTitle": false,
     "tableResultSettingsMap": {},
     "title": ""
    }
   },
   "outputs": [
    {
     "output_type": "display_data",
     "data": {
      "text/html": [
       "<style scoped>\n",
       "  .table-result-container {\n",
       "    max-height: 300px;\n",
       "    overflow: auto;\n",
       "  }\n",
       "  table, th, td {\n",
       "    border: 1px solid black;\n",
       "    border-collapse: collapse;\n",
       "  }\n",
       "  th, td {\n",
       "    padding: 5px;\n",
       "  }\n",
       "  th {\n",
       "    text-align: left;\n",
       "  }\n",
       "</style><div class='table-result-container'><table class='table-result'><thead style='background-color: white'><tr><th>Stops</th><th>total_flights</th></tr></thead><tbody><tr><td>one</td><td>250863</td></tr><tr><td>zero</td><td>36004</td></tr><tr><td>two_or_more</td><td>13286</td></tr></tbody></table></div>"
      ]
     },
     "metadata": {
      "application/vnd.databricks.v1+output": {
       "addedWidgets": {},
       "aggData": [],
       "aggError": "",
       "aggOverflow": false,
       "aggSchema": [],
       "aggSeriesLimitReached": false,
       "aggType": "",
       "arguments": {},
       "columnCustomDisplayInfos": {},
       "data": [
        [
         "one",
         250863
        ],
        [
         "zero",
         36004
        ],
        [
         "two_or_more",
         13286
        ]
       ],
       "datasetInfos": [
        {
         "name": "_sqldf",
         "schema": {
          "fields": [
           {
            "metadata": {},
            "name": "Stops",
            "nullable": true,
            "type": "string"
           },
           {
            "metadata": {},
            "name": "total_flights",
            "nullable": false,
            "type": "long"
           }
          ],
          "type": "struct"
         },
         "tableIdentifier": null,
         "typeStr": "pyspark.sql.connect.dataframe.DataFrame"
        }
       ],
       "dbfsResultPath": null,
       "isJsonSchema": true,
       "metadata": {
        "createTempViewForImplicitDf": true,
        "dataframeName": "_sqldf",
        "executionCount": 100
       },
       "overflow": false,
       "plotOptions": {
        "customPlotOptions": {},
        "displayType": "table",
        "pivotAggregation": null,
        "pivotColumns": null,
        "xColumns": null,
        "yColumns": null
       },
       "removedWidgets": [],
       "schema": [
        {
         "metadata": "{}",
         "name": "Stops",
         "type": "\"string\""
        },
        {
         "metadata": "{}",
         "name": "total_flights",
         "type": "\"long\""
        }
       ],
       "type": "table"
      }
     },
     "output_type": "display_data"
    }
   ],
   "source": [
    "%sql\n",
    "SELECT Stops, COUNT(*) AS total_flights\n",
    "FROM airline_flights_cleaned\n",
    "GROUP BY Stops\n",
    "ORDER BY total_flights DESC;\n"
   ]
  },
  {
   "cell_type": "code",
   "execution_count": 0,
   "metadata": {
    "application/vnd.databricks.v1+cell": {
     "cellMetadata": {
      "byteLimit": 2048000,
      "implicitDf": true,
      "rowLimit": 10000
     },
     "inputWidgets": {},
     "nuid": "43f5c646-88b5-4f15-a901-086a59c1fd2b",
     "showTitle": false,
     "tableResultSettingsMap": {},
     "title": ""
    }
   },
   "outputs": [
    {
     "output_type": "display_data",
     "data": {
      "text/html": [
       "<style scoped>\n",
       "  .table-result-container {\n",
       "    max-height: 300px;\n",
       "    overflow: auto;\n",
       "  }\n",
       "  table, th, td {\n",
       "    border: 1px solid black;\n",
       "    border-collapse: collapse;\n",
       "  }\n",
       "  th, td {\n",
       "    padding: 5px;\n",
       "  }\n",
       "  th {\n",
       "    text-align: left;\n",
       "  }\n",
       "</style><div class='table-result-container'><table class='table-result'><thead style='background-color: white'><tr><th>price_bin</th><th>count</th></tr></thead><tbody><tr><td>1000</td><td>501</td></tr><tr><td>1500</td><td>4538</td></tr><tr><td>2000</td><td>11907</td></tr><tr><td>2500</td><td>4835</td></tr><tr><td>3000</td><td>11295</td></tr><tr><td>3500</td><td>11114</td></tr><tr><td>4000</td><td>21473</td></tr><tr><td>4500</td><td>15723</td></tr><tr><td>5000</td><td>14842</td></tr><tr><td>5500</td><td>18152</td></tr><tr><td>6000</td><td>19955</td></tr><tr><td>6500</td><td>8684</td></tr><tr><td>7000</td><td>9312</td></tr><tr><td>7500</td><td>6593</td></tr><tr><td>8000</td><td>4716</td></tr><tr><td>8500</td><td>2930</td></tr><tr><td>9000</td><td>3490</td></tr><tr><td>9500</td><td>3593</td></tr><tr><td>10000</td><td>2879</td></tr><tr><td>10500</td><td>3149</td></tr><tr><td>11000</td><td>4463</td></tr><tr><td>11500</td><td>2814</td></tr><tr><td>12000</td><td>3266</td></tr><tr><td>12500</td><td>2004</td></tr><tr><td>13000</td><td>2114</td></tr><tr><td>13500</td><td>1892</td></tr><tr><td>14000</td><td>1541</td></tr><tr><td>14500</td><td>1255</td></tr><tr><td>15000</td><td>1023</td></tr><tr><td>15500</td><td>977</td></tr><tr><td>16000</td><td>968</td></tr><tr><td>16500</td><td>584</td></tr><tr><td>17000</td><td>513</td></tr><tr><td>17500</td><td>891</td></tr><tr><td>18000</td><td>327</td></tr><tr><td>18500</td><td>345</td></tr><tr><td>19000</td><td>298</td></tr><tr><td>19500</td><td>299</td></tr><tr><td>20000</td><td>417</td></tr><tr><td>20500</td><td>1007</td></tr><tr><td>21000</td><td>222</td></tr><tr><td>21500</td><td>168</td></tr><tr><td>22000</td><td>1089</td></tr><tr><td>22500</td><td>137</td></tr><tr><td>23000</td><td>265</td></tr><tr><td>23500</td><td>637</td></tr><tr><td>24000</td><td>704</td></tr><tr><td>24500</td><td>62</td></tr><tr><td>25000</td><td>127</td></tr><tr><td>25500</td><td>128</td></tr><tr><td>26000</td><td>82</td></tr><tr><td>26500</td><td>36</td></tr><tr><td>27000</td><td>21</td></tr><tr><td>27500</td><td>1000</td></tr><tr><td>28000</td><td>21</td></tr><tr><td>28500</td><td>462</td></tr><tr><td>29000</td><td>135</td></tr><tr><td>29500</td><td>514</td></tr><tr><td>30000</td><td>63</td></tr><tr><td>30500</td><td>74</td></tr><tr><td>31000</td><td>333</td></tr><tr><td>31500</td><td>401</td></tr><tr><td>32000</td><td>206</td></tr><tr><td>32500</td><td>1345</td></tr><tr><td>33000</td><td>10</td></tr><tr><td>33500</td><td>34</td></tr><tr><td>34000</td><td>470</td></tr><tr><td>34500</td><td>23</td></tr><tr><td>35000</td><td>141</td></tr><tr><td>35500</td><td>307</td></tr><tr><td>36000</td><td>7</td></tr><tr><td>36500</td><td>750</td></tr><tr><td>37000</td><td>221</td></tr><tr><td>37500</td><td>1252</td></tr><tr><td>38000</td><td>986</td></tr><tr><td>38500</td><td>71</td></tr><tr><td>39000</td><td>1023</td></tr><tr><td>39500</td><td>828</td></tr><tr><td>40000</td><td>166</td></tr><tr><td>40500</td><td>251</td></tr><tr><td>41000</td><td>2564</td></tr><tr><td>41500</td><td>102</td></tr><tr><td>42000</td><td>867</td></tr><tr><td>42500</td><td>965</td></tr><tr><td>43000</td><td>286</td></tr><tr><td>43500</td><td>537</td></tr><tr><td>44000</td><td>2436</td></tr><tr><td>44500</td><td>444</td></tr><tr><td>45000</td><td>1418</td></tr><tr><td>45500</td><td>2710</td></tr><tr><td>46000</td><td>182</td></tr><tr><td>46500</td><td>15</td></tr><tr><td>47000</td><td>673</td></tr><tr><td>47500</td><td>803</td></tr><tr><td>48000</td><td>397</td></tr><tr><td>48500</td><td>531</td></tr><tr><td>49000</td><td>784</td></tr><tr><td>49500</td><td>3630</td></tr><tr><td>50000</td><td>1517</td></tr><tr><td>50500</td><td>657</td></tr><tr><td>51000</td><td>1857</td></tr><tr><td>51500</td><td>4036</td></tr><tr><td>52000</td><td>2482</td></tr><tr><td>52500</td><td>482</td></tr><tr><td>53000</td><td>2753</td></tr><tr><td>53500</td><td>1418</td></tr><tr><td>54000</td><td>460</td></tr><tr><td>54500</td><td>4663</td></tr><tr><td>55000</td><td>1133</td></tr><tr><td>55500</td><td>1742</td></tr><tr><td>56000</td><td>827</td></tr><tr><td>56500</td><td>2617</td></tr><tr><td>57000</td><td>1754</td></tr><tr><td>57500</td><td>1804</td></tr><tr><td>58000</td><td>1485</td></tr><tr><td>58500</td><td>179</td></tr><tr><td>59000</td><td>1175</td></tr><tr><td>59500</td><td>422</td></tr><tr><td>60000</td><td>3436</td></tr><tr><td>60500</td><td>3169</td></tr><tr><td>61000</td><td>465</td></tr><tr><td>61500</td><td>1397</td></tr><tr><td>62000</td><td>1287</td></tr><tr><td>62500</td><td>1004</td></tr><tr><td>63000</td><td>318</td></tr><tr><td>63500</td><td>295</td></tr><tr><td>64000</td><td>1325</td></tr><tr><td>64500</td><td>597</td></tr><tr><td>65000</td><td>200</td></tr><tr><td>65500</td><td>735</td></tr><tr><td>66000</td><td>767</td></tr><tr><td>66500</td><td>744</td></tr><tr><td>67000</td><td>827</td></tr><tr><td>67500</td><td>628</td></tr><tr><td>68000</td><td>537</td></tr><tr><td>68500</td><td>195</td></tr><tr><td>69000</td><td>1239</td></tr><tr><td>69500</td><td>454</td></tr><tr><td>70000</td><td>286</td></tr><tr><td>70500</td><td>278</td></tr><tr><td>71000</td><td>216</td></tr><tr><td>71500</td><td>70</td></tr><tr><td>72000</td><td>534</td></tr><tr><td>72500</td><td>183</td></tr><tr><td>73000</td><td>263</td></tr><tr><td>73500</td><td>137</td></tr><tr><td>74000</td><td>354</td></tr><tr><td>74500</td><td>462</td></tr><tr><td>75000</td><td>73</td></tr><tr><td>75500</td><td>131</td></tr><tr><td>76000</td><td>93</td></tr><tr><td>76500</td><td>259</td></tr><tr><td>77000</td><td>235</td></tr><tr><td>77500</td><td>45</td></tr><tr><td>78000</td><td>135</td></tr><tr><td>78500</td><td>123</td></tr><tr><td>79000</td><td>181</td></tr><tr><td>79500</td><td>138</td></tr><tr><td>80000</td><td>81</td></tr><tr><td>80500</td><td>301</td></tr><tr><td>81000</td><td>75</td></tr><tr><td>81500</td><td>83</td></tr><tr><td>82000</td><td>110</td></tr><tr><td>82500</td><td>144</td></tr><tr><td>83000</td><td>20</td></tr><tr><td>83500</td><td>34</td></tr><tr><td>84000</td><td>135</td></tr><tr><td>84500</td><td>175</td></tr><tr><td>85000</td><td>55</td></tr><tr><td>85500</td><td>48</td></tr><tr><td>86000</td><td>35</td></tr><tr><td>86500</td><td>14</td></tr><tr><td>87000</td><td>55</td></tr><tr><td>87500</td><td>63</td></tr><tr><td>88000</td><td>29</td></tr><tr><td>88500</td><td>23</td></tr><tr><td>89000</td><td>27</td></tr><tr><td>89500</td><td>112</td></tr><tr><td>90000</td><td>21</td></tr><tr><td>90500</td><td>57</td></tr><tr><td>91000</td><td>19</td></tr><tr><td>91500</td><td>31</td></tr><tr><td>92000</td><td>20</td></tr><tr><td>92500</td><td>25</td></tr><tr><td>93000</td><td>40</td></tr><tr><td>93500</td><td>15</td></tr><tr><td>94000</td><td>1</td></tr><tr><td>94500</td><td>10</td></tr><tr><td>95000</td><td>18</td></tr><tr><td>95500</td><td>13</td></tr><tr><td>96000</td><td>10</td></tr><tr><td>96500</td><td>14</td></tr><tr><td>97000</td><td>7</td></tr><tr><td>97500</td><td>23</td></tr><tr><td>98000</td><td>6</td></tr><tr><td>98500</td><td>8</td></tr><tr><td>99000</td><td>9</td></tr><tr><td>99500</td><td>6</td></tr><tr><td>100000</td><td>9</td></tr><tr><td>100500</td><td>3</td></tr><tr><td>101000</td><td>4</td></tr><tr><td>101500</td><td>11</td></tr><tr><td>102000</td><td>13</td></tr><tr><td>102500</td><td>8</td></tr><tr><td>103000</td><td>2</td></tr><tr><td>103500</td><td>2</td></tr><tr><td>104000</td><td>6</td></tr><tr><td>104500</td><td>2</td></tr><tr><td>105000</td><td>2</td></tr><tr><td>105500</td><td>12</td></tr><tr><td>106000</td><td>2</td></tr><tr><td>106500</td><td>2</td></tr><tr><td>107000</td><td>3</td></tr><tr><td>107500</td><td>4</td></tr><tr><td>108000</td><td>1</td></tr><tr><td>108500</td><td>1</td></tr><tr><td>109000</td><td>1</td></tr><tr><td>109500</td><td>1</td></tr><tr><td>110000</td><td>2</td></tr><tr><td>110500</td><td>3</td></tr><tr><td>111000</td><td>2</td></tr><tr><td>111500</td><td>3</td></tr><tr><td>114000</td><td>1</td></tr><tr><td>114500</td><td>4</td></tr><tr><td>115000</td><td>1</td></tr><tr><td>116500</td><td>1</td></tr><tr><td>117000</td><td>1</td></tr><tr><td>123000</td><td>1</td></tr></tbody></table></div>"
      ]
     },
     "metadata": {
      "application/vnd.databricks.v1+output": {
       "addedWidgets": {},
       "aggData": [],
       "aggError": "",
       "aggOverflow": false,
       "aggSchema": [],
       "aggSeriesLimitReached": false,
       "aggType": "",
       "arguments": {},
       "columnCustomDisplayInfos": {},
       "data": [
        [
         1000,
         501
        ],
        [
         1500,
         4538
        ],
        [
         2000,
         11907
        ],
        [
         2500,
         4835
        ],
        [
         3000,
         11295
        ],
        [
         3500,
         11114
        ],
        [
         4000,
         21473
        ],
        [
         4500,
         15723
        ],
        [
         5000,
         14842
        ],
        [
         5500,
         18152
        ],
        [
         6000,
         19955
        ],
        [
         6500,
         8684
        ],
        [
         7000,
         9312
        ],
        [
         7500,
         6593
        ],
        [
         8000,
         4716
        ],
        [
         8500,
         2930
        ],
        [
         9000,
         3490
        ],
        [
         9500,
         3593
        ],
        [
         10000,
         2879
        ],
        [
         10500,
         3149
        ],
        [
         11000,
         4463
        ],
        [
         11500,
         2814
        ],
        [
         12000,
         3266
        ],
        [
         12500,
         2004
        ],
        [
         13000,
         2114
        ],
        [
         13500,
         1892
        ],
        [
         14000,
         1541
        ],
        [
         14500,
         1255
        ],
        [
         15000,
         1023
        ],
        [
         15500,
         977
        ],
        [
         16000,
         968
        ],
        [
         16500,
         584
        ],
        [
         17000,
         513
        ],
        [
         17500,
         891
        ],
        [
         18000,
         327
        ],
        [
         18500,
         345
        ],
        [
         19000,
         298
        ],
        [
         19500,
         299
        ],
        [
         20000,
         417
        ],
        [
         20500,
         1007
        ],
        [
         21000,
         222
        ],
        [
         21500,
         168
        ],
        [
         22000,
         1089
        ],
        [
         22500,
         137
        ],
        [
         23000,
         265
        ],
        [
         23500,
         637
        ],
        [
         24000,
         704
        ],
        [
         24500,
         62
        ],
        [
         25000,
         127
        ],
        [
         25500,
         128
        ],
        [
         26000,
         82
        ],
        [
         26500,
         36
        ],
        [
         27000,
         21
        ],
        [
         27500,
         1000
        ],
        [
         28000,
         21
        ],
        [
         28500,
         462
        ],
        [
         29000,
         135
        ],
        [
         29500,
         514
        ],
        [
         30000,
         63
        ],
        [
         30500,
         74
        ],
        [
         31000,
         333
        ],
        [
         31500,
         401
        ],
        [
         32000,
         206
        ],
        [
         32500,
         1345
        ],
        [
         33000,
         10
        ],
        [
         33500,
         34
        ],
        [
         34000,
         470
        ],
        [
         34500,
         23
        ],
        [
         35000,
         141
        ],
        [
         35500,
         307
        ],
        [
         36000,
         7
        ],
        [
         36500,
         750
        ],
        [
         37000,
         221
        ],
        [
         37500,
         1252
        ],
        [
         38000,
         986
        ],
        [
         38500,
         71
        ],
        [
         39000,
         1023
        ],
        [
         39500,
         828
        ],
        [
         40000,
         166
        ],
        [
         40500,
         251
        ],
        [
         41000,
         2564
        ],
        [
         41500,
         102
        ],
        [
         42000,
         867
        ],
        [
         42500,
         965
        ],
        [
         43000,
         286
        ],
        [
         43500,
         537
        ],
        [
         44000,
         2436
        ],
        [
         44500,
         444
        ],
        [
         45000,
         1418
        ],
        [
         45500,
         2710
        ],
        [
         46000,
         182
        ],
        [
         46500,
         15
        ],
        [
         47000,
         673
        ],
        [
         47500,
         803
        ],
        [
         48000,
         397
        ],
        [
         48500,
         531
        ],
        [
         49000,
         784
        ],
        [
         49500,
         3630
        ],
        [
         50000,
         1517
        ],
        [
         50500,
         657
        ],
        [
         51000,
         1857
        ],
        [
         51500,
         4036
        ],
        [
         52000,
         2482
        ],
        [
         52500,
         482
        ],
        [
         53000,
         2753
        ],
        [
         53500,
         1418
        ],
        [
         54000,
         460
        ],
        [
         54500,
         4663
        ],
        [
         55000,
         1133
        ],
        [
         55500,
         1742
        ],
        [
         56000,
         827
        ],
        [
         56500,
         2617
        ],
        [
         57000,
         1754
        ],
        [
         57500,
         1804
        ],
        [
         58000,
         1485
        ],
        [
         58500,
         179
        ],
        [
         59000,
         1175
        ],
        [
         59500,
         422
        ],
        [
         60000,
         3436
        ],
        [
         60500,
         3169
        ],
        [
         61000,
         465
        ],
        [
         61500,
         1397
        ],
        [
         62000,
         1287
        ],
        [
         62500,
         1004
        ],
        [
         63000,
         318
        ],
        [
         63500,
         295
        ],
        [
         64000,
         1325
        ],
        [
         64500,
         597
        ],
        [
         65000,
         200
        ],
        [
         65500,
         735
        ],
        [
         66000,
         767
        ],
        [
         66500,
         744
        ],
        [
         67000,
         827
        ],
        [
         67500,
         628
        ],
        [
         68000,
         537
        ],
        [
         68500,
         195
        ],
        [
         69000,
         1239
        ],
        [
         69500,
         454
        ],
        [
         70000,
         286
        ],
        [
         70500,
         278
        ],
        [
         71000,
         216
        ],
        [
         71500,
         70
        ],
        [
         72000,
         534
        ],
        [
         72500,
         183
        ],
        [
         73000,
         263
        ],
        [
         73500,
         137
        ],
        [
         74000,
         354
        ],
        [
         74500,
         462
        ],
        [
         75000,
         73
        ],
        [
         75500,
         131
        ],
        [
         76000,
         93
        ],
        [
         76500,
         259
        ],
        [
         77000,
         235
        ],
        [
         77500,
         45
        ],
        [
         78000,
         135
        ],
        [
         78500,
         123
        ],
        [
         79000,
         181
        ],
        [
         79500,
         138
        ],
        [
         80000,
         81
        ],
        [
         80500,
         301
        ],
        [
         81000,
         75
        ],
        [
         81500,
         83
        ],
        [
         82000,
         110
        ],
        [
         82500,
         144
        ],
        [
         83000,
         20
        ],
        [
         83500,
         34
        ],
        [
         84000,
         135
        ],
        [
         84500,
         175
        ],
        [
         85000,
         55
        ],
        [
         85500,
         48
        ],
        [
         86000,
         35
        ],
        [
         86500,
         14
        ],
        [
         87000,
         55
        ],
        [
         87500,
         63
        ],
        [
         88000,
         29
        ],
        [
         88500,
         23
        ],
        [
         89000,
         27
        ],
        [
         89500,
         112
        ],
        [
         90000,
         21
        ],
        [
         90500,
         57
        ],
        [
         91000,
         19
        ],
        [
         91500,
         31
        ],
        [
         92000,
         20
        ],
        [
         92500,
         25
        ],
        [
         93000,
         40
        ],
        [
         93500,
         15
        ],
        [
         94000,
         1
        ],
        [
         94500,
         10
        ],
        [
         95000,
         18
        ],
        [
         95500,
         13
        ],
        [
         96000,
         10
        ],
        [
         96500,
         14
        ],
        [
         97000,
         7
        ],
        [
         97500,
         23
        ],
        [
         98000,
         6
        ],
        [
         98500,
         8
        ],
        [
         99000,
         9
        ],
        [
         99500,
         6
        ],
        [
         100000,
         9
        ],
        [
         100500,
         3
        ],
        [
         101000,
         4
        ],
        [
         101500,
         11
        ],
        [
         102000,
         13
        ],
        [
         102500,
         8
        ],
        [
         103000,
         2
        ],
        [
         103500,
         2
        ],
        [
         104000,
         6
        ],
        [
         104500,
         2
        ],
        [
         105000,
         2
        ],
        [
         105500,
         12
        ],
        [
         106000,
         2
        ],
        [
         106500,
         2
        ],
        [
         107000,
         3
        ],
        [
         107500,
         4
        ],
        [
         108000,
         1
        ],
        [
         108500,
         1
        ],
        [
         109000,
         1
        ],
        [
         109500,
         1
        ],
        [
         110000,
         2
        ],
        [
         110500,
         3
        ],
        [
         111000,
         2
        ],
        [
         111500,
         3
        ],
        [
         114000,
         1
        ],
        [
         114500,
         4
        ],
        [
         115000,
         1
        ],
        [
         116500,
         1
        ],
        [
         117000,
         1
        ],
        [
         123000,
         1
        ]
       ],
       "datasetInfos": [
        {
         "name": "_sqldf",
         "schema": {
          "fields": [
           {
            "metadata": {},
            "name": "price_bin",
            "nullable": true,
            "type": "long"
           },
           {
            "metadata": {},
            "name": "count",
            "nullable": false,
            "type": "long"
           }
          ],
          "type": "struct"
         },
         "tableIdentifier": null,
         "typeStr": "pyspark.sql.connect.dataframe.DataFrame"
        }
       ],
       "dbfsResultPath": null,
       "isJsonSchema": true,
       "metadata": {
        "createTempViewForImplicitDf": true,
        "dataframeName": "_sqldf",
        "executionCount": 101
       },
       "overflow": false,
       "plotOptions": {
        "customPlotOptions": {},
        "displayType": "table",
        "pivotAggregation": null,
        "pivotColumns": null,
        "xColumns": null,
        "yColumns": null
       },
       "removedWidgets": [],
       "schema": [
        {
         "metadata": "{}",
         "name": "price_bin",
         "type": "\"long\""
        },
        {
         "metadata": "{}",
         "name": "count",
         "type": "\"long\""
        }
       ],
       "type": "table"
      }
     },
     "output_type": "display_data"
    }
   ],
   "source": [
    "%sql\n",
    "SELECT\n",
    "  FLOOR(Price / 500) * 500 AS price_bin,\n",
    "  COUNT(*) AS count\n",
    "FROM airline_flights_cleaned\n",
    "GROUP BY price_bin\n",
    "ORDER BY price_bin;\n"
   ]
  },
  {
   "cell_type": "code",
   "execution_count": 0,
   "metadata": {
    "application/vnd.databricks.v1+cell": {
     "cellMetadata": {
      "byteLimit": 2048000,
      "rowLimit": 10000
     },
     "inputWidgets": {},
     "nuid": "0eca850b-46d5-43ed-a7f8-dfd029ded256",
     "showTitle": false,
     "tableResultSettingsMap": {},
     "title": ""
    }
   },
   "outputs": [
    {
     "output_type": "stream",
     "name": "stdout",
     "output_type": "stream",
     "text": [
      "Missing values BEFORE imputation:\n+-----+-------+------+-----------+--------------+-----+------------+----------------+-----+--------+---------+-----+-----------------+---------------+----------------+----------------+--------------+---------------+\n|Index|Airline|Flight|Source_City|Departure_Time|Stops|Arrival_Time|Destination_City|Class|Duration|Days_Left|Price|Airline_Air_India|Airline_AirAsia|Airline_SpiceJet|Airline_GO_FIRST|Airline_Indigo|Airline_Vistara|\n+-----+-------+------+-----------+--------------+-----+------------+----------------+-----+--------+---------+-----+-----------------+---------------+----------------+----------------+--------------+---------------+\n|0    |0      |0     |0          |0             |0    |0           |0               |0    |0       |0        |0    |0                |0              |0               |0               |0             |0              |\n+-----+-------+------+-----------+--------------+-----+------------+----------------+-----+--------+---------+-----+-----------------+---------------+----------------+----------------+--------------+---------------+\n\nMissing values AFTER imputation:\n+-----+-------+------+-----------+--------------+-----+------------+----------------+-----+--------+---------+-----+-----------------+---------------+----------------+----------------+--------------+---------------+\n|Index|Airline|Flight|Source_City|Departure_Time|Stops|Arrival_Time|Destination_City|Class|Duration|Days_Left|Price|Airline_Air_India|Airline_AirAsia|Airline_SpiceJet|Airline_GO_FIRST|Airline_Indigo|Airline_Vistara|\n+-----+-------+------+-----------+--------------+-----+------------+----------------+-----+--------+---------+-----+-----------------+---------------+----------------+----------------+--------------+---------------+\n|0    |0      |0     |0          |0             |0    |0           |0               |0    |0       |0        |0    |0                |0              |0               |0               |0             |0              |\n+-----+-------+------+-----------+--------------+-----+------------+----------------+-----+--------+---------+-----+-----------------+---------------+----------------+----------------+--------------+---------------+\n\n"
     ]
    }
   ],
   "source": [
    "from pyspark.sql.functions import sum\n",
    "\n",
    "# Missing values BEFORE\n",
    "print(\"Missing values BEFORE imputation:\")\n",
    "df_with_nulls = flights_df_clean.select([\n",
    "    sum(col(c).isNull().cast(\"int\")).alias(c) for c in flights_df_clean.columns\n",
    "])\n",
    "df_with_nulls.show(truncate=False)\n",
    "\n",
    "# (If you do imputation somewhere in your pipeline, run AFTER check here)\n",
    "print(\"Missing values AFTER imputation:\")\n",
    "df_imputed_nulls = flights_df_clean.select([\n",
    "    sum(col(c).isNull().cast(\"int\")).alias(c) for c in flights_df_clean.columns\n",
    "])\n",
    "df_imputed_nulls.show(truncate=False)\n"
   ]
  },
  {
   "cell_type": "code",
   "execution_count": 0,
   "metadata": {
    "application/vnd.databricks.v1+cell": {
     "cellMetadata": {
      "byteLimit": 2048000,
      "rowLimit": 10000
     },
     "inputWidgets": {},
     "nuid": "4aa872a5-134a-40ce-b514-c5694e437e1b",
     "showTitle": false,
     "tableResultSettingsMap": {},
     "title": ""
    }
   },
   "outputs": [
    {
     "output_type": "stream",
     "name": "stdout",
     "output_type": "stream",
     "text": [
      "+-----+--------+-------+-----------+----------------+-------+-----+\n|Index|Airline |Flight |Source_City|Destination_City|Class  |Price|\n+-----+--------+-------+-----------+----------------+-------+-----+\n|0    |SpiceJet|SG-8709|Delhi      |Mumbai          |Economy|5953 |\n|1    |SpiceJet|SG-8157|Delhi      |Mumbai          |Economy|5953 |\n|2    |AirAsia |I5-764 |Delhi      |Mumbai          |Economy|5956 |\n|3    |Vistara |UK-995 |Delhi      |Mumbai          |Economy|5955 |\n|4    |Vistara |UK-963 |Delhi      |Mumbai          |Economy|5955 |\n|5    |Vistara |UK-945 |Delhi      |Mumbai          |Economy|5955 |\n|6    |Vistara |UK-927 |Delhi      |Mumbai          |Economy|6060 |\n|7    |Vistara |UK-951 |Delhi      |Mumbai          |Economy|6060 |\n|8    |GO_FIRST|G8-334 |Delhi      |Mumbai          |Economy|5954 |\n|9    |GO_FIRST|G8-336 |Delhi      |Mumbai          |Economy|5954 |\n+-----+--------+-------+-----------+----------------+-------+-----+\nonly showing top 10 rows\n"
     ]
    }
   ],
   "source": [
    "flights_df_clean.select(\n",
    "    \"Index\",\n",
    "    \"Airline\",\n",
    "    \"Flight\",\n",
    "    \"Source_City\",\n",
    "    \"Destination_City\",\n",
    "    \"Class\",\n",
    "    \"Price\"\n",
    ").show(10, truncate=False)\n"
   ]
  },
  {
   "cell_type": "code",
   "execution_count": 0,
   "metadata": {
    "application/vnd.databricks.v1+cell": {
     "cellMetadata": {
      "byteLimit": 2048000,
      "rowLimit": 10000
     },
     "inputWidgets": {},
     "nuid": "18cd7aeb-fe9b-4af2-b36a-69ca2c3faedb",
     "showTitle": false,
     "tableResultSettingsMap": {},
     "title": ""
    }
   },
   "outputs": [
    {
     "output_type": "display_data",
     "data": {
      "image/png": "[encoded data removed]",
      "text/plain": [
       "<Figure size 1200x600 with 1 Axes>"
      ]
     },
     "metadata": {},
     "output_type": "display_data"
    },
    {
     "output_type": "display_data",
     "data": {
      "image/png": "[encoded data removed]",
      "text/plain": [
       "<Figure size 800x800 with 1 Axes>"
      ]
     },
     "metadata": {},
     "output_type": "display_data"
    }
   ],
   "source": [
    "import matplotlib.pyplot as plt\n",
    "\n",
    "# Convert to Pandas for plotting\n",
    "class_counts = flights_df_clean.select('Class').toPandas()['Class'].value_counts()\n",
    "class_percentages = class_counts / class_counts.sum() * 100\n",
    "\n",
    "# Bar Chart\n",
    "plt.figure(figsize=(12,6))\n",
    "class_percentages.plot(kind='bar', color='skyblue')\n",
    "plt.ylabel('Percentage (%)')\n",
    "plt.title('Percentage Distribution by Class')\n",
    "plt.xticks(rotation=45)\n",
    "plt.show()\n",
    "\n",
    "# Pie Chart\n",
    "plt.figure(figsize=(8,8))\n",
    "class_percentages.plot(kind='pie', autopct='%1.1f%%', startangle=140, cmap='tab20')\n",
    "plt.title('Percentage Distribution by Class')\n",
    "plt.ylabel('')\n",
    "plt.show()\n"
   ]
  },
  {
   "cell_type": "code",
   "execution_count": 0,
   "metadata": {
    "application/vnd.databricks.v1+cell": {
     "cellMetadata": {},
     "inputWidgets": {},
     "nuid": "7e590bda-c055-4a54-b268-ae9740100464",
     "showTitle": false,
     "tableResultSettingsMap": {},
     "title": ""
    }
   },
   "outputs": [],
   "source": []
  }
 ],
 "metadata": {
  "application/vnd.databricks.v1+notebook": {
   "computePreferences": {
    "hardware": {
     "accelerator": null,
     "gpuPoolId": null,
     "memory": null
    }
   },
   "dashboards": [],
   "environmentMetadata": {
    "base_environment": "",
    "environment_version": "2"
   },
   "inputWidgetPreferences": null,
   "language": "python",
   "notebookMetadata": {
    "mostRecentlyExecutedCommandWithImplicitDF": {
     "commandId": 8374748528383703,
     "dataframes": [
      "_sqldf"
     ]
    },
    "pythonIndentUnit": 4
   },
   "notebookName": "Assignment_1",
   "widgets": {}
  },
  "language_info": {
   "name": "python"
  }
 },
 "nbformat": 4,
 "nbformat_minor": 0
}